{
 "cells": [
  {
   "cell_type": "code",
   "execution_count": 1,
   "id": "4be41c08",
   "metadata": {},
   "outputs": [],
   "source": [
    "import pandas as pd\n",
    "import matplotlib.pyplot as plt\n",
    "import numpy as np\n",
    "import seaborn as sns\n",
    "sns.set_style('whitegrid')\n",
    "#import graphviz\n",
    "from sklearn import preprocessing\n",
    "from sklearn.model_selection import cross_val_score\n",
    "from sklearn.metrics import classification_report,confusion_matrix\n",
    "from sklearn.svm import SVC\n",
    "from sklearn.tree import DecisionTreeClassifier\n",
    "from sklearn import tree\n",
    "from sklearn.neighbors import KNeighborsClassifier\n",
    "from sklearn.model_selection import GridSearchCV\n",
    "from sklearn.ensemble import AdaBoostClassifier, RandomForestClassifier, GradientBoostingClassifier\n",
    "%matplotlib inline"
   ]
  },
  {
   "cell_type": "code",
   "execution_count": 2,
   "id": "978f49b0",
   "metadata": {},
   "outputs": [],
   "source": [
    "films = pd.read_csv('netflix-rotten-tomatoes-metacritic-imdb.csv')"
   ]
  },
  {
   "cell_type": "markdown",
   "id": "51939963",
   "metadata": {},
   "source": [
    "1. Завантажити дані, вивести на екран назви колонок і розмір датасета"
   ]
  },
  {
   "cell_type": "code",
   "execution_count": 3,
   "id": "bfa3954f",
   "metadata": {},
   "outputs": [
    {
     "data": {
      "text/html": [
       "<div>\n",
       "<style scoped>\n",
       "    .dataframe tbody tr th:only-of-type {\n",
       "        vertical-align: middle;\n",
       "    }\n",
       "\n",
       "    .dataframe tbody tr th {\n",
       "        vertical-align: top;\n",
       "    }\n",
       "\n",
       "    .dataframe thead th {\n",
       "        text-align: right;\n",
       "    }\n",
       "</style>\n",
       "<table border=\"1\" class=\"dataframe\">\n",
       "  <thead>\n",
       "    <tr style=\"text-align: right;\">\n",
       "      <th></th>\n",
       "      <th>Title</th>\n",
       "      <th>Genre</th>\n",
       "      <th>Tags</th>\n",
       "      <th>Languages</th>\n",
       "      <th>Series or Movie</th>\n",
       "      <th>Hidden Gem Score</th>\n",
       "      <th>Country Availability</th>\n",
       "      <th>Runtime</th>\n",
       "      <th>Director</th>\n",
       "      <th>Writer</th>\n",
       "      <th>...</th>\n",
       "      <th>Netflix Release Date</th>\n",
       "      <th>Production House</th>\n",
       "      <th>Netflix Link</th>\n",
       "      <th>IMDb Link</th>\n",
       "      <th>Summary</th>\n",
       "      <th>IMDb Votes</th>\n",
       "      <th>Image</th>\n",
       "      <th>Poster</th>\n",
       "      <th>TMDb Trailer</th>\n",
       "      <th>Trailer Site</th>\n",
       "    </tr>\n",
       "  </thead>\n",
       "  <tbody>\n",
       "    <tr>\n",
       "      <th>0</th>\n",
       "      <td>Lets Fight Ghost</td>\n",
       "      <td>Crime, Drama, Fantasy, Horror, Romance</td>\n",
       "      <td>Comedy Programmes,Romantic TV Comedies,Horror ...</td>\n",
       "      <td>Swedish, Spanish</td>\n",
       "      <td>Series</td>\n",
       "      <td>4.3</td>\n",
       "      <td>Thailand</td>\n",
       "      <td>&lt; 30 minutes</td>\n",
       "      <td>Tomas Alfredson</td>\n",
       "      <td>John Ajvide Lindqvist</td>\n",
       "      <td>...</td>\n",
       "      <td>2021-03-04</td>\n",
       "      <td>Canal+, Sandrew Metronome</td>\n",
       "      <td>https://www.netflix.com/watch/81415947</td>\n",
       "      <td>https://www.imdb.com/title/tt1139797</td>\n",
       "      <td>A med student with a supernatural gift tries t...</td>\n",
       "      <td>205926.0</td>\n",
       "      <td>https://occ-0-4708-64.1.nflxso.net/dnm/api/v6/...</td>\n",
       "      <td>https://m.media-amazon.com/images/M/MV5BOWM4NT...</td>\n",
       "      <td>NaN</td>\n",
       "      <td>NaN</td>\n",
       "    </tr>\n",
       "    <tr>\n",
       "      <th>1</th>\n",
       "      <td>HOW TO BUILD A GIRL</td>\n",
       "      <td>Comedy</td>\n",
       "      <td>Dramas,Comedies,Films Based on Books,British</td>\n",
       "      <td>English</td>\n",
       "      <td>Movie</td>\n",
       "      <td>7.0</td>\n",
       "      <td>Canada</td>\n",
       "      <td>1-2 hour</td>\n",
       "      <td>Coky Giedroyc</td>\n",
       "      <td>Caitlin Moran</td>\n",
       "      <td>...</td>\n",
       "      <td>2021-03-04</td>\n",
       "      <td>Film 4, Monumental Pictures, Lionsgate</td>\n",
       "      <td>https://www.netflix.com/watch/81041267</td>\n",
       "      <td>https://www.imdb.com/title/tt4193072</td>\n",
       "      <td>When nerdy Johanna moves to London, things get...</td>\n",
       "      <td>2838.0</td>\n",
       "      <td>https://occ-0-1081-999.1.nflxso.net/dnm/api/v6...</td>\n",
       "      <td>https://m.media-amazon.com/images/M/MV5BZGUyN2...</td>\n",
       "      <td>https://www.youtube.com/watch?v=eIbcxPy4okQ</td>\n",
       "      <td>YouTube</td>\n",
       "    </tr>\n",
       "    <tr>\n",
       "      <th>2</th>\n",
       "      <td>Centigrade</td>\n",
       "      <td>Drama, Thriller</td>\n",
       "      <td>Thrillers</td>\n",
       "      <td>English</td>\n",
       "      <td>Movie</td>\n",
       "      <td>6.4</td>\n",
       "      <td>Canada</td>\n",
       "      <td>1-2 hour</td>\n",
       "      <td>Brendan Walsh</td>\n",
       "      <td>Brendan Walsh, Daley Nixon</td>\n",
       "      <td>...</td>\n",
       "      <td>2021-03-04</td>\n",
       "      <td>NaN</td>\n",
       "      <td>https://www.netflix.com/watch/81305978</td>\n",
       "      <td>https://www.imdb.com/title/tt8945942</td>\n",
       "      <td>Trapped in a frozen car during a blizzard, a p...</td>\n",
       "      <td>1720.0</td>\n",
       "      <td>https://occ-0-1081-999.1.nflxso.net/dnm/api/v6...</td>\n",
       "      <td>https://m.media-amazon.com/images/M/MV5BODM2MD...</td>\n",
       "      <td>https://www.youtube.com/watch?v=0RvV7TNUlkQ</td>\n",
       "      <td>YouTube</td>\n",
       "    </tr>\n",
       "    <tr>\n",
       "      <th>3</th>\n",
       "      <td>ANNE+</td>\n",
       "      <td>Drama</td>\n",
       "      <td>TV Dramas,Romantic TV Dramas,Dutch TV Shows</td>\n",
       "      <td>Turkish</td>\n",
       "      <td>Series</td>\n",
       "      <td>7.7</td>\n",
       "      <td>Belgium,Netherlands</td>\n",
       "      <td>&lt; 30 minutes</td>\n",
       "      <td>NaN</td>\n",
       "      <td>NaN</td>\n",
       "      <td>...</td>\n",
       "      <td>2021-03-04</td>\n",
       "      <td>NaN</td>\n",
       "      <td>https://www.netflix.com/watch/81336456</td>\n",
       "      <td>https://www.imdb.com/title/tt6132758</td>\n",
       "      <td>Upon moving into a new place, a 20-something r...</td>\n",
       "      <td>1147.0</td>\n",
       "      <td>https://occ-0-1489-1490.1.nflxso.net/dnm/api/v...</td>\n",
       "      <td>https://m.media-amazon.com/images/M/MV5BNWRkMz...</td>\n",
       "      <td>NaN</td>\n",
       "      <td>NaN</td>\n",
       "    </tr>\n",
       "    <tr>\n",
       "      <th>4</th>\n",
       "      <td>Moxie</td>\n",
       "      <td>Animation, Short, Drama</td>\n",
       "      <td>Social Issue Dramas,Teen Movies,Dramas,Comedie...</td>\n",
       "      <td>English</td>\n",
       "      <td>Movie</td>\n",
       "      <td>8.1</td>\n",
       "      <td>Lithuania,Poland,France,Iceland,Italy,Spain,Gr...</td>\n",
       "      <td>1-2 hour</td>\n",
       "      <td>Stephen Irwin</td>\n",
       "      <td>NaN</td>\n",
       "      <td>...</td>\n",
       "      <td>2021-03-04</td>\n",
       "      <td>NaN</td>\n",
       "      <td>https://www.netflix.com/watch/81078393</td>\n",
       "      <td>https://www.imdb.com/title/tt2023611</td>\n",
       "      <td>Inspired by her moms rebellious past and a con...</td>\n",
       "      <td>63.0</td>\n",
       "      <td>https://occ-0-4039-1500.1.nflxso.net/dnm/api/v...</td>\n",
       "      <td>https://m.media-amazon.com/images/M/MV5BODYyNW...</td>\n",
       "      <td>NaN</td>\n",
       "      <td>NaN</td>\n",
       "    </tr>\n",
       "  </tbody>\n",
       "</table>\n",
       "<p>5 rows × 29 columns</p>\n",
       "</div>"
      ],
      "text/plain": [
       "                 Title                                   Genre  \\\n",
       "0     Lets Fight Ghost  Crime, Drama, Fantasy, Horror, Romance   \n",
       "1  HOW TO BUILD A GIRL                                  Comedy   \n",
       "2           Centigrade                         Drama, Thriller   \n",
       "3                ANNE+                                   Drama   \n",
       "4                Moxie                 Animation, Short, Drama   \n",
       "\n",
       "                                                Tags         Languages  \\\n",
       "0  Comedy Programmes,Romantic TV Comedies,Horror ...  Swedish, Spanish   \n",
       "1       Dramas,Comedies,Films Based on Books,British           English   \n",
       "2                                          Thrillers           English   \n",
       "3        TV Dramas,Romantic TV Dramas,Dutch TV Shows           Turkish   \n",
       "4  Social Issue Dramas,Teen Movies,Dramas,Comedie...           English   \n",
       "\n",
       "  Series or Movie  Hidden Gem Score  \\\n",
       "0          Series               4.3   \n",
       "1           Movie               7.0   \n",
       "2           Movie               6.4   \n",
       "3          Series               7.7   \n",
       "4           Movie               8.1   \n",
       "\n",
       "                                Country Availability       Runtime  \\\n",
       "0                                           Thailand  < 30 minutes   \n",
       "1                                             Canada      1-2 hour   \n",
       "2                                             Canada      1-2 hour   \n",
       "3                                Belgium,Netherlands  < 30 minutes   \n",
       "4  Lithuania,Poland,France,Iceland,Italy,Spain,Gr...      1-2 hour   \n",
       "\n",
       "          Director                      Writer  ... Netflix Release Date  \\\n",
       "0  Tomas Alfredson       John Ajvide Lindqvist  ...           2021-03-04   \n",
       "1    Coky Giedroyc               Caitlin Moran  ...           2021-03-04   \n",
       "2    Brendan Walsh  Brendan Walsh, Daley Nixon  ...           2021-03-04   \n",
       "3              NaN                         NaN  ...           2021-03-04   \n",
       "4    Stephen Irwin                         NaN  ...           2021-03-04   \n",
       "\n",
       "                         Production House  \\\n",
       "0               Canal+, Sandrew Metronome   \n",
       "1  Film 4, Monumental Pictures, Lionsgate   \n",
       "2                                     NaN   \n",
       "3                                     NaN   \n",
       "4                                     NaN   \n",
       "\n",
       "                             Netflix Link  \\\n",
       "0  https://www.netflix.com/watch/81415947   \n",
       "1  https://www.netflix.com/watch/81041267   \n",
       "2  https://www.netflix.com/watch/81305978   \n",
       "3  https://www.netflix.com/watch/81336456   \n",
       "4  https://www.netflix.com/watch/81078393   \n",
       "\n",
       "                              IMDb Link  \\\n",
       "0  https://www.imdb.com/title/tt1139797   \n",
       "1  https://www.imdb.com/title/tt4193072   \n",
       "2  https://www.imdb.com/title/tt8945942   \n",
       "3  https://www.imdb.com/title/tt6132758   \n",
       "4  https://www.imdb.com/title/tt2023611   \n",
       "\n",
       "                                             Summary  IMDb Votes  \\\n",
       "0  A med student with a supernatural gift tries t...    205926.0   \n",
       "1  When nerdy Johanna moves to London, things get...      2838.0   \n",
       "2  Trapped in a frozen car during a blizzard, a p...      1720.0   \n",
       "3  Upon moving into a new place, a 20-something r...      1147.0   \n",
       "4  Inspired by her moms rebellious past and a con...        63.0   \n",
       "\n",
       "                                               Image  \\\n",
       "0  https://occ-0-4708-64.1.nflxso.net/dnm/api/v6/...   \n",
       "1  https://occ-0-1081-999.1.nflxso.net/dnm/api/v6...   \n",
       "2  https://occ-0-1081-999.1.nflxso.net/dnm/api/v6...   \n",
       "3  https://occ-0-1489-1490.1.nflxso.net/dnm/api/v...   \n",
       "4  https://occ-0-4039-1500.1.nflxso.net/dnm/api/v...   \n",
       "\n",
       "                                              Poster  \\\n",
       "0  https://m.media-amazon.com/images/M/MV5BOWM4NT...   \n",
       "1  https://m.media-amazon.com/images/M/MV5BZGUyN2...   \n",
       "2  https://m.media-amazon.com/images/M/MV5BODM2MD...   \n",
       "3  https://m.media-amazon.com/images/M/MV5BNWRkMz...   \n",
       "4  https://m.media-amazon.com/images/M/MV5BODYyNW...   \n",
       "\n",
       "                                  TMDb Trailer Trailer Site  \n",
       "0                                          NaN          NaN  \n",
       "1  https://www.youtube.com/watch?v=eIbcxPy4okQ      YouTube  \n",
       "2  https://www.youtube.com/watch?v=0RvV7TNUlkQ      YouTube  \n",
       "3                                          NaN          NaN  \n",
       "4                                          NaN          NaN  \n",
       "\n",
       "[5 rows x 29 columns]"
      ]
     },
     "metadata": {},
     "output_type": "display_data"
    },
    {
     "name": "stdout",
     "output_type": "stream",
     "text": [
      "(15480, 29) \n",
      "\n",
      "<class 'pandas.core.frame.DataFrame'>\n",
      "RangeIndex: 15480 entries, 0 to 15479\n",
      "Data columns (total 29 columns):\n",
      " #   Column                 Non-Null Count  Dtype  \n",
      "---  ------                 --------------  -----  \n",
      " 0   Title                  15480 non-null  object \n",
      " 1   Genre                  13770 non-null  object \n",
      " 2   Tags                   15413 non-null  object \n",
      " 3   Languages              13545 non-null  object \n",
      " 4   Series or Movie        15480 non-null  object \n",
      " 5   Hidden Gem Score       13379 non-null  float64\n",
      " 6   Country Availability   15461 non-null  object \n",
      " 7   Runtime                15479 non-null  object \n",
      " 8   Director               10772 non-null  object \n",
      " 9   Writer                 11150 non-null  object \n",
      " 10  Actors                 13555 non-null  object \n",
      " 11  View Rating            8456 non-null   object \n",
      " 12  IMDb Score             13381 non-null  float64\n",
      " 13  Rotten Tomatoes Score  6382 non-null   float64\n",
      " 14  Metacritic Score       4336 non-null   float64\n",
      " 15  Awards Received        6075 non-null   float64\n",
      " 16  Awards Nominated For   7661 non-null   float64\n",
      " 17  Boxoffice              4007 non-null   object \n",
      " 18  Release Date           13373 non-null  object \n",
      " 19  Netflix Release Date   15480 non-null  object \n",
      " 20  Production House       5149 non-null   object \n",
      " 21  Netflix Link           15480 non-null  object \n",
      " 22  IMDb Link              13177 non-null  object \n",
      " 23  Summary                15471 non-null  object \n",
      " 24  IMDb Votes             13379 non-null  float64\n",
      " 25  Image                  15480 non-null  object \n",
      " 26  Poster                 11842 non-null  object \n",
      " 27  TMDb Trailer           7194 non-null   object \n",
      " 28  Trailer Site           7194 non-null   object \n",
      "dtypes: float64(7), object(22)\n",
      "memory usage: 3.4+ MB\n",
      "None \n",
      "\n",
      "       Hidden Gem Score    IMDb Score  Rotten Tomatoes Score  \\\n",
      "count      13379.000000  13381.000000            6382.000000   \n",
      "mean           5.937551      6.496054              59.523034   \n",
      "std            2.250202      1.146910              26.999173   \n",
      "min            0.600000      1.000000               0.000000   \n",
      "25%            3.800000      5.800000              38.000000   \n",
      "50%            6.800000      6.600000              64.000000   \n",
      "75%            7.900000      7.300000              83.000000   \n",
      "max            9.800000      9.700000             100.000000   \n",
      "\n",
      "       Metacritic Score  Awards Received  Awards Nominated For    IMDb Votes  \n",
      "count       4336.000000      6075.000000           7661.000000  1.337900e+04  \n",
      "mean          56.813653         8.764444             13.983161  4.272841e+04  \n",
      "std           17.582545        18.311171             29.821052  1.257012e+05  \n",
      "min            5.000000         1.000000              1.000000  5.000000e+00  \n",
      "25%           44.000000         1.000000              2.000000  4.035000e+02  \n",
      "50%           57.000000         3.000000              5.000000  2.322000e+03  \n",
      "75%           70.000000         8.000000             12.000000  2.089050e+04  \n",
      "max          100.000000       300.000000            386.000000  2.354197e+06  \n"
     ]
    },
    {
     "data": {
      "text/plain": [
       "Index(['Title', 'Genre', 'Tags', 'Languages', 'Series or Movie',\n",
       "       'Hidden Gem Score', 'Country Availability', 'Runtime', 'Director',\n",
       "       'Writer', 'Actors', 'View Rating', 'IMDb Score',\n",
       "       'Rotten Tomatoes Score', 'Metacritic Score', 'Awards Received',\n",
       "       'Awards Nominated For', 'Boxoffice', 'Release Date',\n",
       "       'Netflix Release Date', 'Production House', 'Netflix Link', 'IMDb Link',\n",
       "       'Summary', 'IMDb Votes', 'Image', 'Poster', 'TMDb Trailer',\n",
       "       'Trailer Site'],\n",
       "      dtype='object')"
      ]
     },
     "execution_count": 3,
     "metadata": {},
     "output_type": "execute_result"
    }
   ],
   "source": [
    "display(films.head())\n",
    "\n",
    "print(films.shape, \"\\n\")\n",
    "print(films.info(), \"\\n\")\n",
    "print(films.describe())\n",
    "\n",
    "films.columns"
   ]
  },
  {
   "cell_type": "markdown",
   "id": "c608cc82",
   "metadata": {},
   "source": [
    "2. Опрацювати пропуски (по можливості заповнити їх або видалити)"
   ]
  },
  {
   "cell_type": "code",
   "execution_count": 4,
   "id": "2395de4a",
   "metadata": {},
   "outputs": [
    {
     "name": "stdout",
     "output_type": "stream",
     "text": [
      "(2111, 29) \n",
      "\n"
     ]
    }
   ],
   "source": [
    "films = films.dropna()\n",
    "print(films.shape, \"\\n\")"
   ]
  },
  {
   "cell_type": "markdown",
   "id": "fefff323",
   "metadata": {},
   "source": [
    "3. Візуалізувати дані: побудувати графік (heatmap), що відображає кореляції ознак між собою і з цільовою змінною (розміткою); побудувати гістограми\n",
    "розподілу ознак і boxplot-и ознак відносно цільової змінної (якщо ознак занадто багато\n",
    "обмежитися декількома)"
   ]
  },
  {
   "cell_type": "code",
   "execution_count": 5,
   "id": "d76bf6ec",
   "metadata": {},
   "outputs": [
    {
     "data": {
      "image/png": "[encoded data removed]",
      "text/plain": [
       "<Figure size 432x288 with 2 Axes>"
      ]
     },
     "metadata": {
      "needs_background": "light"
     },
     "output_type": "display_data"
    }
   ],
   "source": [
    "ax = sns.heatmap(films.corr(), vmin=0, vmax=1, cmap=sns.diverging_palette(240, 10, as_cmap=True), annot=True)\n",
    "plt.show()"
   ]
  },
  {
   "cell_type": "code",
   "execution_count": 6,
   "id": "390772c4",
   "metadata": {},
   "outputs": [
    {
     "data": {
      "image/png": "[encoded data removed]",
      "text/plain": [
       "<Figure size 1440x720 with 9 Axes>"
      ]
     },
     "metadata": {
      "needs_background": "light"
     },
     "output_type": "display_data"
    }
   ],
   "source": [
    "headers = ['Hidden Gem Score', 'IMDb Score', 'Rotten Tomatoes Score', 'Metacritic Score', 'Awards Received', 'Awards Nominated For', 'IMDb Votes']\n",
    "films.loc[:,headers].hist(color = \"pink\", figsize=(20,10), edgecolor='black', bins=10)\n",
    "plt.show()"
   ]
  },
  {
   "cell_type": "code",
   "execution_count": 7,
   "id": "94b27364",
   "metadata": {},
   "outputs": [
    {
     "data": {
      "image/png": "[encoded data removed]",
      "text/plain": [
       "<Figure size 432x288 with 1 Axes>"
      ]
     },
     "metadata": {
      "needs_background": "light"
     },
     "output_type": "display_data"
    }
   ],
   "source": [
    "ax = sns.boxplot(x=films[\"Runtime\"], y=films[\"IMDb Score\"], palette = \"rocket\")\n",
    "plt.rcParams['figure.figsize'] = [10, 5]"
   ]
  },
  {
   "cell_type": "code",
   "execution_count": 8,
   "id": "4ff729ad",
   "metadata": {},
   "outputs": [
    {
     "data": {
      "image/png": "[encoded data removed]",
      "text/plain": [
       "<Figure size 720x360 with 1 Axes>"
      ]
     },
     "metadata": {
      "needs_background": "light"
     },
     "output_type": "display_data"
    }
   ],
   "source": [
    "ax = sns.boxplot(x=films[\"View Rating\"], y=films[\"IMDb Score\"], palette = \"rocket\")\n",
    "plt.rcParams['figure.figsize'] = [30, 10]"
   ]
  },
  {
   "cell_type": "markdown",
   "id": "a9059144",
   "metadata": {},
   "source": [
    "4. Нормалізувати дані"
   ]
  },
  {
   "cell_type": "code",
   "execution_count": 9,
   "id": "0058c6c4",
   "metadata": {},
   "outputs": [
    {
     "name": "stdout",
     "output_type": "stream",
     "text": [
      "             0         1         2         3         4         5         6\n",
      "0     0.000004  0.000009  0.000071  0.000062  0.000118  0.000240  1.000000\n",
      "1     0.000004  0.000009  0.000071  0.000070  0.000035  0.000094  1.000000\n",
      "2     0.000006  0.000011  0.000125  0.000111  0.000060  0.000123  1.000000\n",
      "3     0.000228  0.000420  0.005103  0.004322  0.000060  0.000060  0.999978\n",
      "4     0.000089  0.000163  0.001883  0.001820  0.000402  0.000296  0.999996\n",
      "...        ...       ...       ...       ...       ...       ...       ...\n",
      "2106  0.000008  0.000021  0.000137  0.000146  0.000018  0.000030  1.000000\n",
      "2107  0.000011  0.000030  0.000156  0.000208  0.000004  0.000022  1.000000\n",
      "2108  0.000260  0.000589  0.005461  0.004508  0.000260  0.000433  0.999975\n",
      "2109  0.000009  0.000022  0.000111  0.000201  0.000049  0.000098  1.000000\n",
      "2110  0.000032  0.000130  0.000049  0.000539  0.000024  0.000024  1.000000\n",
      "\n",
      "[2111 rows x 7 columns]\n"
     ]
    }
   ],
   "source": [
    "x = films[['Hidden Gem Score', 'IMDb Score', 'Rotten Tomatoes Score', 'Metacritic Score', 'Awards Received', 'Awards Nominated For', 'IMDb Votes']]\n",
    "normalized = preprocessing.normalize(x)\n",
    "scaled_df = pd.DataFrame(normalized)\n",
    "print(scaled_df)"
   ]
  },
  {
   "cell_type": "markdown",
   "id": "4f44df17",
   "metadata": {},
   "source": [
    "<h1>KNN</h1>"
   ]
  },
  {
   "cell_type": "code",
   "execution_count": 10,
   "id": "7829d51a",
   "metadata": {},
   "outputs": [],
   "source": [
    "from sklearn.model_selection import train_test_split\n",
    "X_train, X_test, Y_train, Y_test = train_test_split(scaled_df, films['Awards Received'], random_state=0)"
   ]
  },
  {
   "cell_type": "code",
   "execution_count": 11,
   "id": "99824a25",
   "metadata": {
    "scrolled": true
   },
   "outputs": [
    {
     "name": "stdout",
     "output_type": "stream",
     "text": [
      "[[101   8   5 ...   0   0   0]\n",
      " [ 70   8   5 ...   0   0   0]\n",
      " [ 33   6   4 ...   0   0   0]\n",
      " ...\n",
      " [  0   0   0 ...   0   0   0]\n",
      " [  0   0   0 ...   0   0   0]\n",
      " [  0   0   0 ...   0   0   0]]\n",
      "\n",
      "\n",
      "              precision    recall  f1-score   support\n",
      "\n",
      "         1.0       0.34      0.87      0.49       116\n",
      "         2.0       0.19      0.10      0.13        84\n",
      "         3.0       0.09      0.09      0.09        43\n",
      "         4.0       0.10      0.05      0.07        38\n",
      "         5.0       0.11      0.08      0.09        25\n",
      "         6.0       0.00      0.00      0.00        22\n",
      "         7.0       0.00      0.00      0.00         9\n",
      "         8.0       0.11      0.11      0.11        18\n",
      "         9.0       0.00      0.00      0.00        10\n",
      "        10.0       0.00      0.00      0.00        11\n",
      "        11.0       0.00      0.00      0.00         9\n",
      "        12.0       0.00      0.00      0.00         6\n",
      "        13.0       0.00      0.00      0.00         6\n",
      "        14.0       0.00      0.00      0.00         3\n",
      "        15.0       0.00      0.00      0.00        10\n",
      "        16.0       0.00      0.00      0.00         6\n",
      "        17.0       0.00      0.00      0.00         4\n",
      "        18.0       0.00      0.00      0.00         4\n",
      "        19.0       0.00      0.00      0.00         3\n",
      "        20.0       0.00      0.00      0.00         9\n",
      "        21.0       0.00      0.00      0.00         2\n",
      "        22.0       0.00      0.00      0.00         6\n",
      "        23.0       0.00      0.00      0.00         1\n",
      "        24.0       0.00      0.00      0.00         5\n",
      "        25.0       0.00      0.00      0.00         3\n",
      "        26.0       0.03      0.33      0.06         3\n",
      "        27.0       0.00      0.00      0.00         1\n",
      "        29.0       0.00      0.00      0.00         4\n",
      "        30.0       0.00      0.00      0.00         5\n",
      "        31.0       0.00      0.00      0.00         3\n",
      "        32.0       0.00      0.00      0.00         3\n",
      "        33.0       0.00      0.00      0.00         1\n",
      "        35.0       0.00      0.00      0.00         2\n",
      "        36.0       0.00      0.00      0.00         2\n",
      "        37.0       0.20      0.33      0.25         3\n",
      "        39.0       0.00      0.00      0.00         2\n",
      "        40.0       0.00      0.00      0.00         1\n",
      "        42.0       0.00      0.00      0.00         2\n",
      "        43.0       0.00      0.00      0.00         1\n",
      "        45.0       0.00      0.00      0.00         1\n",
      "        47.0       0.13      1.00      0.24         2\n",
      "        51.0       0.00      0.00      0.00         2\n",
      "        55.0       0.00      0.00      0.00         1\n",
      "        56.0       0.00      0.00      0.00         2\n",
      "        57.0       0.00      0.00      0.00         1\n",
      "        58.0       0.00      0.00      0.00         2\n",
      "        59.0       0.00      0.00      0.00         1\n",
      "        63.0       0.00      0.00      0.00         1\n",
      "        64.0       0.00      0.00      0.00         2\n",
      "        66.0       0.00      0.00      0.00         1\n",
      "        68.0       0.00      0.00      0.00         2\n",
      "        74.0       0.50      1.00      0.67         1\n",
      "        75.0       0.00      0.00      0.00         1\n",
      "        77.0       0.00      0.00      0.00         1\n",
      "        79.0       0.00      0.00      0.00         1\n",
      "        80.0       0.00      0.00      0.00         2\n",
      "        86.0       0.00      0.00      0.00         1\n",
      "        90.0       0.00      0.00      0.00         2\n",
      "        97.0       0.00      0.00      0.00         1\n",
      "        98.0       0.00      0.00      0.00         1\n",
      "       109.0       0.00      0.00      0.00         1\n",
      "       117.0       0.00      0.00      0.00         1\n",
      "       119.0       0.00      0.00      0.00         1\n",
      "       123.0       0.00      0.00      0.00         1\n",
      "       126.0       0.00      0.00      0.00         2\n",
      "       129.0       0.00      0.00      0.00         1\n",
      "       132.0       0.00      0.00      0.00         1\n",
      "       133.0       0.00      0.00      0.00         1\n",
      "       134.0       0.00      0.00      0.00         1\n",
      "       161.0       0.00      0.00      0.00         1\n",
      "       194.0       0.00      0.00      0.00         1\n",
      "       229.0       0.00      0.00      0.00         1\n",
      "\n",
      "    accuracy                           0.23       528\n",
      "   macro avg       0.03      0.06      0.03       528\n",
      "weighted avg       0.13      0.23      0.15       528\n",
      "\n"
     ]
    },
    {
     "name": "stderr",
     "output_type": "stream",
     "text": [
      "C:\\Users\\gress\\anaconda3\\lib\\site-packages\\sklearn\\metrics\\_classification.py:1245: UndefinedMetricWarning: Precision and F-score are ill-defined and being set to 0.0 in labels with no predicted samples. Use `zero_division` parameter to control this behavior.\n",
      "  _warn_prf(average, modifier, msg_start, len(result))\n",
      "C:\\Users\\gress\\anaconda3\\lib\\site-packages\\sklearn\\metrics\\_classification.py:1245: UndefinedMetricWarning: Precision and F-score are ill-defined and being set to 0.0 in labels with no predicted samples. Use `zero_division` parameter to control this behavior.\n",
      "  _warn_prf(average, modifier, msg_start, len(result))\n",
      "C:\\Users\\gress\\anaconda3\\lib\\site-packages\\sklearn\\metrics\\_classification.py:1245: UndefinedMetricWarning: Precision and F-score are ill-defined and being set to 0.0 in labels with no predicted samples. Use `zero_division` parameter to control this behavior.\n",
      "  _warn_prf(average, modifier, msg_start, len(result))\n"
     ]
    }
   ],
   "source": [
    "for i in range(1, 50):\n",
    "    clf = KNeighborsClassifier(n_neighbors=i)\n",
    "    clf.fit(X_train, Y_train)\n",
    "    prediction = clf.predict(X_test)\n",
    "print(confusion_matrix(Y_test, prediction))\n",
    "print('\\n')\n",
    "print(classification_report(Y_test, prediction))"
   ]
  },
  {
   "cell_type": "code",
   "execution_count": 15,
   "id": "c2fe8558",
   "metadata": {},
   "outputs": [
    {
     "name": "stderr",
     "output_type": "stream",
     "text": [
      "C:\\Users\\gress\\anaconda3\\lib\\site-packages\\sklearn\\model_selection\\_split.py:666: UserWarning: The least populated class in y has only 1 members, which is less than n_splits=10.\n",
      "  warnings.warn((\"The least populated class in y has only %d\"\n"
     ]
    },
    {
     "data": {
      "text/plain": [
       "GridSearchCV(cv=10, estimator=KNeighborsClassifier(),\n",
       "             param_grid={'n_neighbors': [1, 2, 3, 4, 5, 6, 7, 8, 9, 10, 11, 12,\n",
       "                                         13, 14, 15, 16, 17, 18, 19, 20, 21, 22,\n",
       "                                         23, 24, 25, 26, 27, 28, 29, 30, ...]})"
      ]
     },
     "execution_count": 15,
     "metadata": {},
     "output_type": "execute_result"
    }
   ],
   "source": [
    "n_neighbors = list(range(1,50))\n",
    "hyperparameters = dict(n_neighbors=n_neighbors)#Create new KNN object\n",
    "CV_knn = GridSearchCV(KNeighborsClassifier(), hyperparameters, cv=10)#Fit the model\n",
    "CV_knn.fit(X_train, Y_train)#Print The value of best Hyperparameters"
   ]
  },
  {
   "cell_type": "code",
   "execution_count": 16,
   "id": "9d319d2d",
   "metadata": {},
   "outputs": [
    {
     "data": {
      "text/plain": [
       "{'n_neighbors': 2}"
      ]
     },
     "execution_count": 16,
     "metadata": {},
     "output_type": "execute_result"
    }
   ],
   "source": [
    "CV_knn.best_params_"
   ]
  },
  {
   "cell_type": "code",
   "execution_count": 17,
   "id": "13c19b8c",
   "metadata": {},
   "outputs": [
    {
     "data": {
      "text/plain": [
       "KNeighborsClassifier(n_neighbors=2)"
      ]
     },
     "execution_count": 17,
     "metadata": {},
     "output_type": "execute_result"
    }
   ],
   "source": [
    "CV_knn.best_estimator_"
   ]
  },
  {
   "cell_type": "code",
   "execution_count": 18,
   "id": "d998b545",
   "metadata": {},
   "outputs": [
    {
     "name": "stdout",
     "output_type": "stream",
     "text": [
      "[[73 23 15 ...  0  0  0]\n",
      " [50 25  4 ...  0  0  0]\n",
      " [13  9 15 ...  0  0  0]\n",
      " ...\n",
      " [ 0  0  0 ...  0  0  0]\n",
      " [ 0  0  0 ...  0  0  0]\n",
      " [ 0  0  0 ...  0  0  0]]\n",
      "\n",
      "\n",
      "              precision    recall  f1-score   support\n",
      "\n",
      "         1.0       0.45      0.63      0.52       116\n",
      "         2.0       0.34      0.30      0.32        84\n",
      "         3.0       0.23      0.35      0.28        43\n",
      "         4.0       0.12      0.13      0.13        38\n",
      "         5.0       0.18      0.12      0.14        25\n",
      "         6.0       0.18      0.09      0.12        22\n",
      "         7.0       0.00      0.00      0.00         9\n",
      "         8.0       0.00      0.00      0.00        18\n",
      "         9.0       0.11      0.10      0.11        10\n",
      "        10.0       0.12      0.09      0.11        11\n",
      "        11.0       0.00      0.00      0.00         9\n",
      "        12.0       0.00      0.00      0.00         6\n",
      "        13.0       0.14      0.17      0.15         6\n",
      "        14.0       0.00      0.00      0.00         3\n",
      "        15.0       0.00      0.00      0.00        10\n",
      "        16.0       0.00      0.00      0.00         6\n",
      "        17.0       0.00      0.00      0.00         4\n",
      "        18.0       0.00      0.00      0.00         4\n",
      "        19.0       0.20      0.33      0.25         3\n",
      "        20.0       0.00      0.00      0.00         9\n",
      "        21.0       0.00      0.00      0.00         2\n",
      "        22.0       0.00      0.00      0.00         6\n",
      "        23.0       0.00      0.00      0.00         1\n",
      "        24.0       0.00      0.00      0.00         5\n",
      "        25.0       0.00      0.00      0.00         3\n",
      "        26.0       0.20      0.33      0.25         3\n",
      "        27.0       0.00      0.00      0.00         1\n",
      "        28.0       0.00      0.00      0.00         0\n",
      "        29.0       0.00      0.00      0.00         4\n",
      "        30.0       0.00      0.00      0.00         5\n",
      "        31.0       0.00      0.00      0.00         3\n",
      "        32.0       0.00      0.00      0.00         3\n",
      "        33.0       0.00      0.00      0.00         1\n",
      "        35.0       0.00      0.00      0.00         2\n",
      "        36.0       0.00      0.00      0.00         2\n",
      "        37.0       0.00      0.00      0.00         3\n",
      "        38.0       0.00      0.00      0.00         0\n",
      "        39.0       0.00      0.00      0.00         2\n",
      "        40.0       0.00      0.00      0.00         1\n",
      "        42.0       0.00      0.00      0.00         2\n",
      "        43.0       0.00      0.00      0.00         1\n",
      "        45.0       0.00      0.00      0.00         1\n",
      "        47.0       1.00      1.00      1.00         2\n",
      "        49.0       0.00      0.00      0.00         0\n",
      "        50.0       0.00      0.00      0.00         0\n",
      "        51.0       0.00      0.00      0.00         2\n",
      "        53.0       0.00      0.00      0.00         0\n",
      "        55.0       0.00      0.00      0.00         1\n",
      "        56.0       0.00      0.00      0.00         2\n",
      "        57.0       0.00      0.00      0.00         1\n",
      "        58.0       0.00      0.00      0.00         2\n",
      "        59.0       0.00      0.00      0.00         1\n",
      "        61.0       0.00      0.00      0.00         0\n",
      "        63.0       0.00      0.00      0.00         1\n",
      "        64.0       0.00      0.00      0.00         2\n",
      "        65.0       0.00      0.00      0.00         0\n",
      "        66.0       0.00      0.00      0.00         1\n",
      "        67.0       0.00      0.00      0.00         0\n",
      "        68.0       0.00      0.00      0.00         2\n",
      "        74.0       0.00      0.00      0.00         1\n",
      "        75.0       0.00      0.00      0.00         1\n",
      "        77.0       0.00      0.00      0.00         1\n",
      "        79.0       0.00      0.00      0.00         1\n",
      "        80.0       0.00      0.00      0.00         2\n",
      "        83.0       0.00      0.00      0.00         0\n",
      "        84.0       0.00      0.00      0.00         0\n",
      "        86.0       0.00      0.00      0.00         1\n",
      "        90.0       0.00      0.00      0.00         2\n",
      "        95.0       0.00      0.00      0.00         0\n",
      "        97.0       0.00      0.00      0.00         1\n",
      "        98.0       0.00      0.00      0.00         1\n",
      "       102.0       0.00      0.00      0.00         0\n",
      "       109.0       0.00      0.00      0.00         1\n",
      "       117.0       0.00      0.00      0.00         1\n",
      "       119.0       0.00      0.00      0.00         1\n",
      "       123.0       0.00      0.00      0.00         1\n",
      "       126.0       0.00      0.00      0.00         2\n",
      "       129.0       0.00      0.00      0.00         1\n",
      "       132.0       0.00      0.00      0.00         1\n",
      "       133.0       0.00      0.00      0.00         1\n",
      "       134.0       0.00      0.00      0.00         1\n",
      "       161.0       0.00      0.00      0.00         1\n",
      "       194.0       0.00      0.00      0.00         1\n",
      "       229.0       0.00      0.00      0.00         1\n",
      "\n",
      "    accuracy                           0.25       528\n",
      "   macro avg       0.04      0.04      0.04       528\n",
      "weighted avg       0.21      0.25      0.22       528\n",
      "\n"
     ]
    },
    {
     "name": "stderr",
     "output_type": "stream",
     "text": [
      "C:\\Users\\gress\\anaconda3\\lib\\site-packages\\sklearn\\metrics\\_classification.py:1245: UndefinedMetricWarning: Precision and F-score are ill-defined and being set to 0.0 in labels with no predicted samples. Use `zero_division` parameter to control this behavior.\n",
      "  _warn_prf(average, modifier, msg_start, len(result))\n",
      "C:\\Users\\gress\\anaconda3\\lib\\site-packages\\sklearn\\metrics\\_classification.py:1245: UndefinedMetricWarning: Recall and F-score are ill-defined and being set to 0.0 in labels with no true samples. Use `zero_division` parameter to control this behavior.\n",
      "  _warn_prf(average, modifier, msg_start, len(result))\n",
      "C:\\Users\\gress\\anaconda3\\lib\\site-packages\\sklearn\\metrics\\_classification.py:1245: UndefinedMetricWarning: Precision and F-score are ill-defined and being set to 0.0 in labels with no predicted samples. Use `zero_division` parameter to control this behavior.\n",
      "  _warn_prf(average, modifier, msg_start, len(result))\n",
      "C:\\Users\\gress\\anaconda3\\lib\\site-packages\\sklearn\\metrics\\_classification.py:1245: UndefinedMetricWarning: Recall and F-score are ill-defined and being set to 0.0 in labels with no true samples. Use `zero_division` parameter to control this behavior.\n",
      "  _warn_prf(average, modifier, msg_start, len(result))\n",
      "C:\\Users\\gress\\anaconda3\\lib\\site-packages\\sklearn\\metrics\\_classification.py:1245: UndefinedMetricWarning: Precision and F-score are ill-defined and being set to 0.0 in labels with no predicted samples. Use `zero_division` parameter to control this behavior.\n",
      "  _warn_prf(average, modifier, msg_start, len(result))\n",
      "C:\\Users\\gress\\anaconda3\\lib\\site-packages\\sklearn\\metrics\\_classification.py:1245: UndefinedMetricWarning: Recall and F-score are ill-defined and being set to 0.0 in labels with no true samples. Use `zero_division` parameter to control this behavior.\n",
      "  _warn_prf(average, modifier, msg_start, len(result))\n"
     ]
    }
   ],
   "source": [
    "grid_predictions = CV_knn.predict(X_test)\n",
    "print(confusion_matrix(Y_test, grid_predictions))\n",
    "print('\\n')\n",
    "print(classification_report(Y_test, grid_predictions))"
   ]
  },
  {
   "cell_type": "markdown",
   "id": "5fb1e2e4",
   "metadata": {},
   "source": [
    "<h1>Decision Tree</h1>"
   ]
  },
  {
   "cell_type": "code",
   "execution_count": 19,
   "id": "a1e0a7a3",
   "metadata": {},
   "outputs": [
    {
     "name": "stdout",
     "output_type": "stream",
     "text": [
      "[[111   2   3 ...   0   0   0]\n",
      " [ 19  37  28 ...   0   0   0]\n",
      " [  2   6  31 ...   0   0   0]\n",
      " ...\n",
      " [  0   0   0 ...   0   0   0]\n",
      " [  0   0   0 ...   0   0   0]\n",
      " [  0   0   0 ...   0   0   0]]\n",
      "\n",
      "\n",
      "              precision    recall  f1-score   support\n",
      "\n",
      "         1.0       0.79      0.96      0.86       116\n",
      "         2.0       0.82      0.44      0.57        84\n",
      "         3.0       0.19      0.72      0.31        43\n",
      "         4.0       0.38      0.21      0.27        38\n",
      "         5.0       0.20      0.04      0.07        25\n",
      "         6.0       0.00      0.00      0.00        22\n",
      "         7.0       0.00      0.00      0.00         9\n",
      "         8.0       0.07      0.33      0.12        18\n",
      "         9.0       0.00      0.00      0.00        10\n",
      "        10.0       0.00      0.00      0.00        11\n",
      "        11.0       0.00      0.00      0.00         9\n",
      "        12.0       0.00      0.00      0.00         6\n",
      "        13.0       0.00      0.00      0.00         6\n",
      "        14.0       0.00      0.00      0.00         3\n",
      "        15.0       0.00      0.00      0.00        10\n",
      "        16.0       0.00      0.00      0.00         6\n",
      "        17.0       0.00      0.00      0.00         4\n",
      "        18.0       0.00      0.00      0.00         4\n",
      "        19.0       0.00      0.00      0.00         3\n",
      "        20.0       0.00      0.00      0.00         9\n",
      "        21.0       0.00      0.00      0.00         2\n",
      "        22.0       0.00      0.00      0.00         6\n",
      "        23.0       0.00      0.00      0.00         1\n",
      "        24.0       0.00      0.00      0.00         5\n",
      "        25.0       0.00      0.00      0.00         3\n",
      "        26.0       0.00      0.00      0.00         3\n",
      "        27.0       0.00      0.00      0.00         1\n",
      "        28.0       0.00      0.00      0.00         0\n",
      "        29.0       0.00      0.00      0.00         4\n",
      "        30.0       0.00      0.00      0.00         5\n",
      "        31.0       0.00      0.00      0.00         3\n",
      "        32.0       0.00      0.00      0.00         3\n",
      "        33.0       0.00      0.00      0.00         1\n",
      "        35.0       0.00      0.00      0.00         2\n",
      "        36.0       0.00      0.00      0.00         2\n",
      "        37.0       0.00      0.00      0.00         3\n",
      "        39.0       0.00      0.00      0.00         2\n",
      "        40.0       0.00      0.00      0.00         1\n",
      "        42.0       0.00      0.00      0.00         2\n",
      "        43.0       0.00      0.00      0.00         1\n",
      "        45.0       0.00      0.00      0.00         1\n",
      "        47.0       0.00      0.00      0.00         2\n",
      "        51.0       0.00      0.00      0.00         2\n",
      "        55.0       0.00      0.00      0.00         1\n",
      "        56.0       0.00      0.00      0.00         2\n",
      "        57.0       0.00      0.00      0.00         1\n",
      "        58.0       0.00      0.00      0.00         2\n",
      "        59.0       0.00      0.00      0.00         1\n",
      "        63.0       0.00      0.00      0.00         1\n",
      "        64.0       0.00      0.00      0.00         2\n",
      "        66.0       0.00      0.00      0.00         1\n",
      "        68.0       0.00      0.00      0.00         2\n",
      "        74.0       0.00      0.00      0.00         1\n",
      "        75.0       0.00      0.00      0.00         1\n",
      "        77.0       0.00      0.00      0.00         1\n",
      "        79.0       0.00      0.00      0.00         1\n",
      "        80.0       0.00      0.00      0.00         2\n",
      "        86.0       0.00      0.00      0.00         1\n",
      "        90.0       0.00      0.00      0.00         2\n",
      "        97.0       0.00      0.00      0.00         1\n",
      "        98.0       0.00      0.00      0.00         1\n",
      "       109.0       0.00      0.00      0.00         1\n",
      "       117.0       0.00      0.00      0.00         1\n",
      "       119.0       0.00      0.00      0.00         1\n",
      "       123.0       0.00      0.00      0.00         1\n",
      "       126.0       0.00      0.00      0.00         2\n",
      "       129.0       0.00      0.00      0.00         1\n",
      "       132.0       0.00      0.00      0.00         1\n",
      "       133.0       0.00      0.00      0.00         1\n",
      "       134.0       0.00      0.00      0.00         1\n",
      "       161.0       0.00      0.00      0.00         1\n",
      "       194.0       0.00      0.00      0.00         1\n",
      "       229.0       0.00      0.00      0.00         1\n",
      "\n",
      "    accuracy                           0.37       528\n",
      "   macro avg       0.03      0.04      0.03       528\n",
      "weighted avg       0.36      0.37      0.33       528\n",
      "\n"
     ]
    },
    {
     "name": "stderr",
     "output_type": "stream",
     "text": [
      "C:\\Users\\gress\\anaconda3\\lib\\site-packages\\sklearn\\metrics\\_classification.py:1245: UndefinedMetricWarning: Precision and F-score are ill-defined and being set to 0.0 in labels with no predicted samples. Use `zero_division` parameter to control this behavior.\n",
      "  _warn_prf(average, modifier, msg_start, len(result))\n",
      "C:\\Users\\gress\\anaconda3\\lib\\site-packages\\sklearn\\metrics\\_classification.py:1245: UndefinedMetricWarning: Recall and F-score are ill-defined and being set to 0.0 in labels with no true samples. Use `zero_division` parameter to control this behavior.\n",
      "  _warn_prf(average, modifier, msg_start, len(result))\n",
      "C:\\Users\\gress\\anaconda3\\lib\\site-packages\\sklearn\\metrics\\_classification.py:1245: UndefinedMetricWarning: Precision and F-score are ill-defined and being set to 0.0 in labels with no predicted samples. Use `zero_division` parameter to control this behavior.\n",
      "  _warn_prf(average, modifier, msg_start, len(result))\n",
      "C:\\Users\\gress\\anaconda3\\lib\\site-packages\\sklearn\\metrics\\_classification.py:1245: UndefinedMetricWarning: Recall and F-score are ill-defined and being set to 0.0 in labels with no true samples. Use `zero_division` parameter to control this behavior.\n",
      "  _warn_prf(average, modifier, msg_start, len(result))\n",
      "C:\\Users\\gress\\anaconda3\\lib\\site-packages\\sklearn\\metrics\\_classification.py:1245: UndefinedMetricWarning: Precision and F-score are ill-defined and being set to 0.0 in labels with no predicted samples. Use `zero_division` parameter to control this behavior.\n",
      "  _warn_prf(average, modifier, msg_start, len(result))\n",
      "C:\\Users\\gress\\anaconda3\\lib\\site-packages\\sklearn\\metrics\\_classification.py:1245: UndefinedMetricWarning: Recall and F-score are ill-defined and being set to 0.0 in labels with no true samples. Use `zero_division` parameter to control this behavior.\n",
      "  _warn_prf(average, modifier, msg_start, len(result))\n"
     ]
    }
   ],
   "source": [
    "clf = DecisionTreeClassifier(max_depth=5)\n",
    "clf.fit(X_train, Y_train)\n",
    "prediction = clf.predict(X_test)\n",
    "print(confusion_matrix(Y_test, prediction))\n",
    "print('\\n')\n",
    "print(classification_report(Y_test, prediction))"
   ]
  },
  {
   "cell_type": "code",
   "execution_count": 20,
   "id": "8df8b874",
   "metadata": {
    "scrolled": true
   },
   "outputs": [
    {
     "name": "stdout",
     "output_type": "stream",
     "text": [
      "|--- feature_4 <= 0.00\n",
      "|   |--- feature_1 <= 0.00\n",
      "|   |   |--- feature_4 <= 0.00\n",
      "|   |   |   |--- feature_1 <= 0.00\n",
      "|   |   |   |   |--- feature_1 <= 0.00\n",
      "|   |   |   |   |   |--- class: 4.0\n",
      "|   |   |   |   |--- feature_1 >  0.00\n",
      "|   |   |   |   |   |--- class: 2.0\n",
      "|   |   |   |--- feature_1 >  0.00\n",
      "|   |   |   |   |--- class: 1.0\n",
      "|   |   |--- feature_4 >  0.00\n",
      "|   |   |   |--- feature_1 <= 0.00\n",
      "|   |   |   |   |--- feature_4 <= 0.00\n",
      "|   |   |   |   |   |--- class: 4.0\n",
      "|   |   |   |   |--- feature_4 >  0.00\n",
      "|   |   |   |   |   |--- class: 5.0\n",
      "|   |   |   |--- feature_1 >  0.00\n",
      "|   |   |   |   |--- feature_4 <= 0.00\n",
      "|   |   |   |   |   |--- class: 2.0\n",
      "|   |   |   |   |--- feature_4 >  0.00\n",
      "|   |   |   |   |   |--- class: 3.0\n",
      "|   |--- feature_1 >  0.00\n",
      "|   |   |--- feature_1 <= 0.00\n",
      "|   |   |   |--- feature_4 <= 0.00\n",
      "|   |   |   |   |--- class: 1.0\n",
      "|   |   |   |--- feature_4 >  0.00\n",
      "|   |   |   |   |--- feature_2 <= 0.00\n",
      "|   |   |   |   |   |--- class: 1.0\n",
      "|   |   |   |   |--- feature_2 >  0.00\n",
      "|   |   |   |   |   |--- class: 2.0\n",
      "|   |   |--- feature_1 >  0.00\n",
      "|   |   |   |--- class: 1.0\n",
      "|--- feature_4 >  0.00\n",
      "|   |--- feature_1 <= 0.00\n",
      "|   |   |--- feature_4 <= 0.00\n",
      "|   |   |   |--- feature_1 <= 0.00\n",
      "|   |   |   |   |--- feature_1 <= 0.00\n",
      "|   |   |   |   |   |--- class: 8.0\n",
      "|   |   |   |   |--- feature_1 >  0.00\n",
      "|   |   |   |   |   |--- class: 3.0\n",
      "|   |   |   |--- feature_1 >  0.00\n",
      "|   |   |   |   |--- feature_1 <= 0.00\n",
      "|   |   |   |   |   |--- class: 3.0\n",
      "|   |   |   |   |--- feature_1 >  0.00\n",
      "|   |   |   |   |   |--- class: 2.0\n",
      "|   |   |--- feature_4 >  0.00\n",
      "|   |   |   |--- feature_4 <= 0.00\n",
      "|   |   |   |   |--- feature_1 <= 0.00\n",
      "|   |   |   |   |   |--- class: 8.0\n",
      "|   |   |   |   |--- feature_1 >  0.00\n",
      "|   |   |   |   |   |--- class: 4.0\n",
      "|   |   |   |--- feature_4 >  0.00\n",
      "|   |   |   |   |--- feature_4 <= 0.00\n",
      "|   |   |   |   |   |--- class: 18.0\n",
      "|   |   |   |   |--- feature_4 >  0.00\n",
      "|   |   |   |   |   |--- class: 28.0\n",
      "|   |--- feature_1 >  0.00\n",
      "|   |   |--- feature_4 <= 0.00\n",
      "|   |   |   |--- feature_1 <= 0.00\n",
      "|   |   |   |   |--- feature_4 <= 0.00\n",
      "|   |   |   |   |   |--- class: 1.0\n",
      "|   |   |   |   |--- feature_4 >  0.00\n",
      "|   |   |   |   |   |--- class: 2.0\n",
      "|   |   |   |--- feature_1 >  0.00\n",
      "|   |   |   |   |--- feature_5 <= 0.00\n",
      "|   |   |   |   |   |--- class: 2.0\n",
      "|   |   |   |   |--- feature_5 >  0.00\n",
      "|   |   |   |   |   |--- class: 1.0\n",
      "|   |   |--- feature_4 >  0.00\n",
      "|   |   |   |--- feature_4 <= 0.00\n",
      "|   |   |   |   |--- feature_1 <= 0.00\n",
      "|   |   |   |   |   |--- class: 3.0\n",
      "|   |   |   |   |--- feature_1 >  0.00\n",
      "|   |   |   |   |   |--- class: 1.0\n",
      "|   |   |   |--- feature_4 >  0.00\n",
      "|   |   |   |   |--- feature_0 <= 0.00\n",
      "|   |   |   |   |   |--- class: 3.0\n",
      "|   |   |   |   |--- feature_0 >  0.00\n",
      "|   |   |   |   |   |--- class: 1.0\n",
      "\n"
     ]
    }
   ],
   "source": [
    "text_representation = tree.export_text(clf)\n",
    "print(text_representation)"
   ]
  },
  {
   "cell_type": "markdown",
   "id": "74ce3b07",
   "metadata": {},
   "source": [
    "<h1>SVM</h1>"
   ]
  },
  {
   "cell_type": "code",
   "execution_count": 21,
   "id": "b2be0586",
   "metadata": {},
   "outputs": [],
   "source": [
    "clf = SVC()\n",
    "clf.fit(X_train, Y_train)\n",
    "y_pred = clf.predict(X_test)"
   ]
  },
  {
   "cell_type": "code",
   "execution_count": 22,
   "id": "56c1ce8f",
   "metadata": {
    "scrolled": true
   },
   "outputs": [
    {
     "name": "stdout",
     "output_type": "stream",
     "text": [
      "[[116   0   0 ...   0   0   0]\n",
      " [ 84   0   0 ...   0   0   0]\n",
      " [ 43   0   0 ...   0   0   0]\n",
      " ...\n",
      " [  1   0   0 ...   0   0   0]\n",
      " [  1   0   0 ...   0   0   0]\n",
      " [  1   0   0 ...   0   0   0]]\n",
      "\n",
      "\n",
      "              precision    recall  f1-score   support\n",
      "\n",
      "         1.0       0.22      1.00      0.36       116\n",
      "         2.0       0.00      0.00      0.00        84\n",
      "         3.0       0.00      0.00      0.00        43\n",
      "         4.0       0.00      0.00      0.00        38\n",
      "         5.0       0.00      0.00      0.00        25\n",
      "         6.0       0.00      0.00      0.00        22\n",
      "         7.0       0.00      0.00      0.00         9\n",
      "         8.0       0.00      0.00      0.00        18\n",
      "         9.0       0.00      0.00      0.00        10\n",
      "        10.0       0.00      0.00      0.00        11\n",
      "        11.0       0.00      0.00      0.00         9\n",
      "        12.0       0.00      0.00      0.00         6\n",
      "        13.0       0.00      0.00      0.00         6\n",
      "        14.0       0.00      0.00      0.00         3\n",
      "        15.0       0.00      0.00      0.00        10\n",
      "        16.0       0.00      0.00      0.00         6\n",
      "        17.0       0.00      0.00      0.00         4\n",
      "        18.0       0.00      0.00      0.00         4\n",
      "        19.0       0.00      0.00      0.00         3\n",
      "        20.0       0.00      0.00      0.00         9\n",
      "        21.0       0.00      0.00      0.00         2\n",
      "        22.0       0.00      0.00      0.00         6\n",
      "        23.0       0.00      0.00      0.00         1\n",
      "        24.0       0.00      0.00      0.00         5\n",
      "        25.0       0.00      0.00      0.00         3\n",
      "        26.0       0.00      0.00      0.00         3\n",
      "        27.0       0.00      0.00      0.00         1\n",
      "        29.0       0.00      0.00      0.00         4\n",
      "        30.0       0.00      0.00      0.00         5\n",
      "        31.0       0.00      0.00      0.00         3\n",
      "        32.0       0.00      0.00      0.00         3\n",
      "        33.0       0.00      0.00      0.00         1\n",
      "        35.0       0.00      0.00      0.00         2\n",
      "        36.0       0.00      0.00      0.00         2\n",
      "        37.0       0.00      0.00      0.00         3\n",
      "        39.0       0.00      0.00      0.00         2\n",
      "        40.0       0.00      0.00      0.00         1\n",
      "        42.0       0.00      0.00      0.00         2\n",
      "        43.0       0.00      0.00      0.00         1\n",
      "        45.0       0.00      0.00      0.00         1\n",
      "        47.0       0.00      0.00      0.00         2\n",
      "        51.0       0.00      0.00      0.00         2\n",
      "        55.0       0.00      0.00      0.00         1\n",
      "        56.0       0.00      0.00      0.00         2\n",
      "        57.0       0.00      0.00      0.00         1\n",
      "        58.0       0.00      0.00      0.00         2\n",
      "        59.0       0.00      0.00      0.00         1\n",
      "        63.0       0.00      0.00      0.00         1\n",
      "        64.0       0.00      0.00      0.00         2\n",
      "        66.0       0.00      0.00      0.00         1\n",
      "        68.0       0.00      0.00      0.00         2\n",
      "        74.0       0.00      0.00      0.00         1\n",
      "        75.0       0.00      0.00      0.00         1\n",
      "        77.0       0.00      0.00      0.00         1\n",
      "        79.0       0.00      0.00      0.00         1\n",
      "        80.0       0.00      0.00      0.00         2\n",
      "        86.0       0.00      0.00      0.00         1\n",
      "        90.0       0.00      0.00      0.00         2\n",
      "        97.0       0.00      0.00      0.00         1\n",
      "        98.0       0.00      0.00      0.00         1\n",
      "       109.0       0.00      0.00      0.00         1\n",
      "       117.0       0.00      0.00      0.00         1\n",
      "       119.0       0.00      0.00      0.00         1\n",
      "       123.0       0.00      0.00      0.00         1\n",
      "       126.0       0.00      0.00      0.00         2\n",
      "       129.0       0.00      0.00      0.00         1\n",
      "       132.0       0.00      0.00      0.00         1\n",
      "       133.0       0.00      0.00      0.00         1\n",
      "       134.0       0.00      0.00      0.00         1\n",
      "       161.0       0.00      0.00      0.00         1\n",
      "       194.0       0.00      0.00      0.00         1\n",
      "       229.0       0.00      0.00      0.00         1\n",
      "\n",
      "    accuracy                           0.22       528\n",
      "   macro avg       0.00      0.01      0.01       528\n",
      "weighted avg       0.05      0.22      0.08       528\n",
      "\n"
     ]
    },
    {
     "name": "stderr",
     "output_type": "stream",
     "text": [
      "C:\\Users\\gress\\anaconda3\\lib\\site-packages\\sklearn\\metrics\\_classification.py:1245: UndefinedMetricWarning: Precision and F-score are ill-defined and being set to 0.0 in labels with no predicted samples. Use `zero_division` parameter to control this behavior.\n",
      "  _warn_prf(average, modifier, msg_start, len(result))\n",
      "C:\\Users\\gress\\anaconda3\\lib\\site-packages\\sklearn\\metrics\\_classification.py:1245: UndefinedMetricWarning: Precision and F-score are ill-defined and being set to 0.0 in labels with no predicted samples. Use `zero_division` parameter to control this behavior.\n",
      "  _warn_prf(average, modifier, msg_start, len(result))\n",
      "C:\\Users\\gress\\anaconda3\\lib\\site-packages\\sklearn\\metrics\\_classification.py:1245: UndefinedMetricWarning: Precision and F-score are ill-defined and being set to 0.0 in labels with no predicted samples. Use `zero_division` parameter to control this behavior.\n",
      "  _warn_prf(average, modifier, msg_start, len(result))\n"
     ]
    }
   ],
   "source": [
    "print(confusion_matrix(Y_test, y_pred))\n",
    "print('\\n')\n",
    "print(classification_report(Y_test, y_pred))"
   ]
  },
  {
   "cell_type": "markdown",
   "id": "6ca8873a",
   "metadata": {},
   "source": [
    "GridSearch SVM"
   ]
  },
  {
   "cell_type": "code",
   "execution_count": 24,
   "id": "a15e7bca",
   "metadata": {
    "scrolled": true
   },
   "outputs": [
    {
     "name": "stdout",
     "output_type": "stream",
     "text": [
      "Fitting 5 folds for each of 25 candidates, totalling 125 fits\n"
     ]
    },
    {
     "name": "stderr",
     "output_type": "stream",
     "text": [
      "C:\\Users\\gress\\anaconda3\\lib\\site-packages\\sklearn\\model_selection\\_split.py:666: UserWarning: The least populated class in y has only 1 members, which is less than n_splits=5.\n",
      "  warnings.warn((\"The least populated class in y has only %d\"\n"
     ]
    },
    {
     "name": "stdout",
     "output_type": "stream",
     "text": [
      "[CV 1/5] END .....................C=0.1, gamma=1, kernel=rbf; total time=   0.1s\n",
      "[CV 2/5] END .....................C=0.1, gamma=1, kernel=rbf; total time=   0.1s\n",
      "[CV 3/5] END .....................C=0.1, gamma=1, kernel=rbf; total time=   0.1s\n",
      "[CV 4/5] END .....................C=0.1, gamma=1, kernel=rbf; total time=   0.1s\n",
      "[CV 5/5] END .....................C=0.1, gamma=1, kernel=rbf; total time=   0.1s\n",
      "[CV 1/5] END ...................C=0.1, gamma=0.1, kernel=rbf; total time=   0.1s\n",
      "[CV 2/5] END ...................C=0.1, gamma=0.1, kernel=rbf; total time=   0.1s\n",
      "[CV 3/5] END ...................C=0.1, gamma=0.1, kernel=rbf; total time=   0.1s\n",
      "[CV 4/5] END ...................C=0.1, gamma=0.1, kernel=rbf; total time=   0.1s\n",
      "[CV 5/5] END ...................C=0.1, gamma=0.1, kernel=rbf; total time=   0.1s\n",
      "[CV 1/5] END ..................C=0.1, gamma=0.01, kernel=rbf; total time=   0.1s\n",
      "[CV 2/5] END ..................C=0.1, gamma=0.01, kernel=rbf; total time=   0.1s\n",
      "[CV 3/5] END ..................C=0.1, gamma=0.01, kernel=rbf; total time=   0.1s\n",
      "[CV 4/5] END ..................C=0.1, gamma=0.01, kernel=rbf; total time=   0.1s\n",
      "[CV 5/5] END ..................C=0.1, gamma=0.01, kernel=rbf; total time=   0.1s\n",
      "[CV 1/5] END .................C=0.1, gamma=0.001, kernel=rbf; total time=   0.1s\n",
      "[CV 2/5] END .................C=0.1, gamma=0.001, kernel=rbf; total time=   0.1s\n",
      "[CV 3/5] END .................C=0.1, gamma=0.001, kernel=rbf; total time=   0.1s\n",
      "[CV 4/5] END .................C=0.1, gamma=0.001, kernel=rbf; total time=   0.1s\n",
      "[CV 5/5] END .................C=0.1, gamma=0.001, kernel=rbf; total time=   0.1s\n",
      "[CV 1/5] END ................C=0.1, gamma=0.0001, kernel=rbf; total time=   0.1s\n",
      "[CV 2/5] END ................C=0.1, gamma=0.0001, kernel=rbf; total time=   0.1s\n",
      "[CV 3/5] END ................C=0.1, gamma=0.0001, kernel=rbf; total time=   0.1s\n",
      "[CV 4/5] END ................C=0.1, gamma=0.0001, kernel=rbf; total time=   0.1s\n",
      "[CV 5/5] END ................C=0.1, gamma=0.0001, kernel=rbf; total time=   0.1s\n",
      "[CV 1/5] END .......................C=1, gamma=1, kernel=rbf; total time=   0.1s\n",
      "[CV 2/5] END .......................C=1, gamma=1, kernel=rbf; total time=   0.1s\n",
      "[CV 3/5] END .......................C=1, gamma=1, kernel=rbf; total time=   0.1s\n",
      "[CV 4/5] END .......................C=1, gamma=1, kernel=rbf; total time=   0.1s\n",
      "[CV 5/5] END .......................C=1, gamma=1, kernel=rbf; total time=   0.1s\n",
      "[CV 1/5] END .....................C=1, gamma=0.1, kernel=rbf; total time=   0.1s\n",
      "[CV 2/5] END .....................C=1, gamma=0.1, kernel=rbf; total time=   0.1s\n",
      "[CV 3/5] END .....................C=1, gamma=0.1, kernel=rbf; total time=   0.1s\n",
      "[CV 4/5] END .....................C=1, gamma=0.1, kernel=rbf; total time=   0.1s\n",
      "[CV 5/5] END .....................C=1, gamma=0.1, kernel=rbf; total time=   0.1s\n",
      "[CV 1/5] END ....................C=1, gamma=0.01, kernel=rbf; total time=   0.1s\n",
      "[CV 2/5] END ....................C=1, gamma=0.01, kernel=rbf; total time=   0.1s\n",
      "[CV 3/5] END ....................C=1, gamma=0.01, kernel=rbf; total time=   0.1s\n",
      "[CV 4/5] END ....................C=1, gamma=0.01, kernel=rbf; total time=   0.1s\n",
      "[CV 5/5] END ....................C=1, gamma=0.01, kernel=rbf; total time=   0.1s\n",
      "[CV 1/5] END ...................C=1, gamma=0.001, kernel=rbf; total time=   0.1s\n",
      "[CV 2/5] END ...................C=1, gamma=0.001, kernel=rbf; total time=   0.1s\n",
      "[CV 3/5] END ...................C=1, gamma=0.001, kernel=rbf; total time=   0.1s\n",
      "[CV 4/5] END ...................C=1, gamma=0.001, kernel=rbf; total time=   0.1s\n",
      "[CV 5/5] END ...................C=1, gamma=0.001, kernel=rbf; total time=   0.1s\n",
      "[CV 1/5] END ..................C=1, gamma=0.0001, kernel=rbf; total time=   0.1s\n",
      "[CV 2/5] END ..................C=1, gamma=0.0001, kernel=rbf; total time=   0.1s\n",
      "[CV 3/5] END ..................C=1, gamma=0.0001, kernel=rbf; total time=   0.1s\n",
      "[CV 4/5] END ..................C=1, gamma=0.0001, kernel=rbf; total time=   0.1s\n",
      "[CV 5/5] END ..................C=1, gamma=0.0001, kernel=rbf; total time=   0.1s\n",
      "[CV 1/5] END ......................C=10, gamma=1, kernel=rbf; total time=   0.1s\n",
      "[CV 2/5] END ......................C=10, gamma=1, kernel=rbf; total time=   0.1s\n",
      "[CV 3/5] END ......................C=10, gamma=1, kernel=rbf; total time=   0.1s\n",
      "[CV 4/5] END ......................C=10, gamma=1, kernel=rbf; total time=   0.1s\n",
      "[CV 5/5] END ......................C=10, gamma=1, kernel=rbf; total time=   0.1s\n",
      "[CV 1/5] END ....................C=10, gamma=0.1, kernel=rbf; total time=   0.1s\n",
      "[CV 2/5] END ....................C=10, gamma=0.1, kernel=rbf; total time=   0.1s\n",
      "[CV 3/5] END ....................C=10, gamma=0.1, kernel=rbf; total time=   0.1s\n",
      "[CV 4/5] END ....................C=10, gamma=0.1, kernel=rbf; total time=   0.1s\n",
      "[CV 5/5] END ....................C=10, gamma=0.1, kernel=rbf; total time=   0.1s\n",
      "[CV 1/5] END ...................C=10, gamma=0.01, kernel=rbf; total time=   0.1s\n",
      "[CV 2/5] END ...................C=10, gamma=0.01, kernel=rbf; total time=   0.1s\n",
      "[CV 3/5] END ...................C=10, gamma=0.01, kernel=rbf; total time=   0.1s\n",
      "[CV 4/5] END ...................C=10, gamma=0.01, kernel=rbf; total time=   0.1s\n",
      "[CV 5/5] END ...................C=10, gamma=0.01, kernel=rbf; total time=   0.1s\n",
      "[CV 1/5] END ..................C=10, gamma=0.001, kernel=rbf; total time=   0.1s\n",
      "[CV 2/5] END ..................C=10, gamma=0.001, kernel=rbf; total time=   0.1s\n",
      "[CV 3/5] END ..................C=10, gamma=0.001, kernel=rbf; total time=   0.1s\n",
      "[CV 4/5] END ..................C=10, gamma=0.001, kernel=rbf; total time=   0.1s\n",
      "[CV 5/5] END ..................C=10, gamma=0.001, kernel=rbf; total time=   0.1s\n",
      "[CV 1/5] END .................C=10, gamma=0.0001, kernel=rbf; total time=   0.1s\n",
      "[CV 2/5] END .................C=10, gamma=0.0001, kernel=rbf; total time=   0.1s\n",
      "[CV 3/5] END .................C=10, gamma=0.0001, kernel=rbf; total time=   0.1s\n",
      "[CV 4/5] END .................C=10, gamma=0.0001, kernel=rbf; total time=   0.1s\n",
      "[CV 5/5] END .................C=10, gamma=0.0001, kernel=rbf; total time=   0.1s\n",
      "[CV 1/5] END .....................C=100, gamma=1, kernel=rbf; total time=   0.1s\n",
      "[CV 2/5] END .....................C=100, gamma=1, kernel=rbf; total time=   0.1s\n",
      "[CV 3/5] END .....................C=100, gamma=1, kernel=rbf; total time=   0.1s\n",
      "[CV 4/5] END .....................C=100, gamma=1, kernel=rbf; total time=   0.1s\n",
      "[CV 5/5] END .....................C=100, gamma=1, kernel=rbf; total time=   0.1s\n",
      "[CV 1/5] END ...................C=100, gamma=0.1, kernel=rbf; total time=   0.1s\n",
      "[CV 2/5] END ...................C=100, gamma=0.1, kernel=rbf; total time=   0.1s\n",
      "[CV 3/5] END ...................C=100, gamma=0.1, kernel=rbf; total time=   0.1s\n",
      "[CV 4/5] END ...................C=100, gamma=0.1, kernel=rbf; total time=   0.1s\n",
      "[CV 5/5] END ...................C=100, gamma=0.1, kernel=rbf; total time=   0.1s\n",
      "[CV 1/5] END ..................C=100, gamma=0.01, kernel=rbf; total time=   0.1s\n",
      "[CV 2/5] END ..................C=100, gamma=0.01, kernel=rbf; total time=   0.1s\n",
      "[CV 3/5] END ..................C=100, gamma=0.01, kernel=rbf; total time=   0.1s\n",
      "[CV 4/5] END ..................C=100, gamma=0.01, kernel=rbf; total time=   0.1s\n",
      "[CV 5/5] END ..................C=100, gamma=0.01, kernel=rbf; total time=   0.1s\n",
      "[CV 1/5] END .................C=100, gamma=0.001, kernel=rbf; total time=   0.1s\n",
      "[CV 2/5] END .................C=100, gamma=0.001, kernel=rbf; total time=   0.1s\n",
      "[CV 3/5] END .................C=100, gamma=0.001, kernel=rbf; total time=   0.1s\n",
      "[CV 4/5] END .................C=100, gamma=0.001, kernel=rbf; total time=   0.1s\n",
      "[CV 5/5] END .................C=100, gamma=0.001, kernel=rbf; total time=   0.1s\n",
      "[CV 1/5] END ................C=100, gamma=0.0001, kernel=rbf; total time=   0.1s\n",
      "[CV 2/5] END ................C=100, gamma=0.0001, kernel=rbf; total time=   0.1s\n",
      "[CV 3/5] END ................C=100, gamma=0.0001, kernel=rbf; total time=   0.1s\n",
      "[CV 4/5] END ................C=100, gamma=0.0001, kernel=rbf; total time=   0.1s\n",
      "[CV 5/5] END ................C=100, gamma=0.0001, kernel=rbf; total time=   0.1s\n",
      "[CV 1/5] END ....................C=1000, gamma=1, kernel=rbf; total time=   0.2s\n",
      "[CV 2/5] END ....................C=1000, gamma=1, kernel=rbf; total time=   0.2s\n"
     ]
    },
    {
     "name": "stdout",
     "output_type": "stream",
     "text": [
      "[CV 3/5] END ....................C=1000, gamma=1, kernel=rbf; total time=   0.2s\n",
      "[CV 4/5] END ....................C=1000, gamma=1, kernel=rbf; total time=   0.2s\n",
      "[CV 5/5] END ....................C=1000, gamma=1, kernel=rbf; total time=   0.2s\n",
      "[CV 1/5] END ..................C=1000, gamma=0.1, kernel=rbf; total time=   0.1s\n",
      "[CV 2/5] END ..................C=1000, gamma=0.1, kernel=rbf; total time=   0.1s\n",
      "[CV 3/5] END ..................C=1000, gamma=0.1, kernel=rbf; total time=   0.1s\n",
      "[CV 4/5] END ..................C=1000, gamma=0.1, kernel=rbf; total time=   0.1s\n",
      "[CV 5/5] END ..................C=1000, gamma=0.1, kernel=rbf; total time=   0.1s\n",
      "[CV 1/5] END .................C=1000, gamma=0.01, kernel=rbf; total time=   0.1s\n",
      "[CV 2/5] END .................C=1000, gamma=0.01, kernel=rbf; total time=   0.1s\n",
      "[CV 3/5] END .................C=1000, gamma=0.01, kernel=rbf; total time=   0.2s\n",
      "[CV 4/5] END .................C=1000, gamma=0.01, kernel=rbf; total time=   0.2s\n",
      "[CV 5/5] END .................C=1000, gamma=0.01, kernel=rbf; total time=   0.1s\n",
      "[CV 1/5] END ................C=1000, gamma=0.001, kernel=rbf; total time=   0.1s\n",
      "[CV 2/5] END ................C=1000, gamma=0.001, kernel=rbf; total time=   0.1s\n",
      "[CV 3/5] END ................C=1000, gamma=0.001, kernel=rbf; total time=   0.1s\n",
      "[CV 4/5] END ................C=1000, gamma=0.001, kernel=rbf; total time=   0.1s\n",
      "[CV 5/5] END ................C=1000, gamma=0.001, kernel=rbf; total time=   0.1s\n",
      "[CV 1/5] END ...............C=1000, gamma=0.0001, kernel=rbf; total time=   0.1s\n",
      "[CV 2/5] END ...............C=1000, gamma=0.0001, kernel=rbf; total time=   0.1s\n",
      "[CV 3/5] END ...............C=1000, gamma=0.0001, kernel=rbf; total time=   0.1s\n",
      "[CV 4/5] END ...............C=1000, gamma=0.0001, kernel=rbf; total time=   0.1s\n",
      "[CV 5/5] END ...............C=1000, gamma=0.0001, kernel=rbf; total time=   0.1s\n"
     ]
    },
    {
     "data": {
      "text/plain": [
       "GridSearchCV(estimator=SVC(),\n",
       "             param_grid={'C': [0.1, 1, 10, 100, 1000],\n",
       "                         'gamma': [1, 0.1, 0.01, 0.001, 0.0001],\n",
       "                         'kernel': ['rbf']},\n",
       "             verbose=3)"
      ]
     },
     "execution_count": 24,
     "metadata": {},
     "output_type": "execute_result"
    }
   ],
   "source": [
    "param_grid = {'C': [0.1,1, 10, 100, 1000], 'gamma': [1,0.1,0.01,0.001,0.0001], 'kernel': ['rbf']} \n",
    "CV_svm = GridSearchCV(SVC(),param_grid, refit=True, verbose=3)\n",
    "CV_svm.fit(X_train, Y_train)"
   ]
  },
  {
   "cell_type": "code",
   "execution_count": 25,
   "id": "9ee593fe",
   "metadata": {},
   "outputs": [
    {
     "data": {
      "text/plain": [
       "{'C': 1000, 'gamma': 1, 'kernel': 'rbf'}"
      ]
     },
     "execution_count": 25,
     "metadata": {},
     "output_type": "execute_result"
    }
   ],
   "source": [
    "CV_svm.best_params_"
   ]
  },
  {
   "cell_type": "code",
   "execution_count": 26,
   "id": "10902e9a",
   "metadata": {},
   "outputs": [
    {
     "data": {
      "text/plain": [
       "SVC(C=1000, gamma=1)"
      ]
     },
     "execution_count": 26,
     "metadata": {},
     "output_type": "execute_result"
    }
   ],
   "source": [
    "CV_svm.best_estimator_"
   ]
  },
  {
   "cell_type": "code",
   "execution_count": 27,
   "id": "9585277c",
   "metadata": {
    "scrolled": true
   },
   "outputs": [
    {
     "name": "stdout",
     "output_type": "stream",
     "text": [
      "[[116   0   0 ...   0   0   0]\n",
      " [ 84   0   0 ...   0   0   0]\n",
      " [ 43   0   0 ...   0   0   0]\n",
      " ...\n",
      " [  1   0   0 ...   0   0   0]\n",
      " [  1   0   0 ...   0   0   0]\n",
      " [  1   0   0 ...   0   0   0]]\n",
      "\n",
      "\n",
      "              precision    recall  f1-score   support\n",
      "\n",
      "         1.0       0.22      1.00      0.36       116\n",
      "         2.0       0.00      0.00      0.00        84\n",
      "         3.0       0.00      0.00      0.00        43\n",
      "         4.0       0.00      0.00      0.00        38\n",
      "         5.0       0.00      0.00      0.00        25\n",
      "         6.0       0.00      0.00      0.00        22\n",
      "         7.0       0.00      0.00      0.00         9\n",
      "         8.0       0.00      0.00      0.00        18\n",
      "         9.0       0.00      0.00      0.00        10\n",
      "        10.0       0.00      0.00      0.00        11\n",
      "        11.0       0.00      0.00      0.00         9\n",
      "        12.0       0.00      0.00      0.00         6\n",
      "        13.0       0.00      0.00      0.00         6\n",
      "        14.0       0.00      0.00      0.00         3\n",
      "        15.0       0.00      0.00      0.00        10\n",
      "        16.0       0.00      0.00      0.00         6\n",
      "        17.0       0.00      0.00      0.00         4\n",
      "        18.0       0.00      0.00      0.00         4\n",
      "        19.0       0.00      0.00      0.00         3\n",
      "        20.0       0.00      0.00      0.00         9\n",
      "        21.0       0.00      0.00      0.00         2\n",
      "        22.0       0.00      0.00      0.00         6\n",
      "        23.0       0.00      0.00      0.00         1\n",
      "        24.0       0.00      0.00      0.00         5\n",
      "        25.0       0.00      0.00      0.00         3\n",
      "        26.0       0.00      0.00      0.00         3\n",
      "        27.0       0.00      0.00      0.00         1\n",
      "        29.0       0.00      0.00      0.00         4\n",
      "        30.0       0.00      0.00      0.00         5\n",
      "        31.0       0.00      0.00      0.00         3\n",
      "        32.0       0.00      0.00      0.00         3\n",
      "        33.0       0.00      0.00      0.00         1\n",
      "        35.0       0.00      0.00      0.00         2\n",
      "        36.0       0.00      0.00      0.00         2\n",
      "        37.0       0.00      0.00      0.00         3\n",
      "        39.0       0.00      0.00      0.00         2\n",
      "        40.0       0.00      0.00      0.00         1\n",
      "        42.0       0.00      0.00      0.00         2\n",
      "        43.0       0.00      0.00      0.00         1\n",
      "        45.0       0.00      0.00      0.00         1\n",
      "        47.0       0.00      0.00      0.00         2\n",
      "        51.0       0.00      0.00      0.00         2\n",
      "        55.0       0.00      0.00      0.00         1\n",
      "        56.0       0.00      0.00      0.00         2\n",
      "        57.0       0.00      0.00      0.00         1\n",
      "        58.0       0.00      0.00      0.00         2\n",
      "        59.0       0.00      0.00      0.00         1\n",
      "        63.0       0.00      0.00      0.00         1\n",
      "        64.0       0.00      0.00      0.00         2\n",
      "        66.0       0.00      0.00      0.00         1\n",
      "        68.0       0.00      0.00      0.00         2\n",
      "        74.0       0.00      0.00      0.00         1\n",
      "        75.0       0.00      0.00      0.00         1\n",
      "        77.0       0.00      0.00      0.00         1\n",
      "        79.0       0.00      0.00      0.00         1\n",
      "        80.0       0.00      0.00      0.00         2\n",
      "        86.0       0.00      0.00      0.00         1\n",
      "        90.0       0.00      0.00      0.00         2\n",
      "        97.0       0.00      0.00      0.00         1\n",
      "        98.0       0.00      0.00      0.00         1\n",
      "       109.0       0.00      0.00      0.00         1\n",
      "       117.0       0.00      0.00      0.00         1\n",
      "       119.0       0.00      0.00      0.00         1\n",
      "       123.0       0.00      0.00      0.00         1\n",
      "       126.0       0.00      0.00      0.00         2\n",
      "       129.0       0.00      0.00      0.00         1\n",
      "       132.0       0.00      0.00      0.00         1\n",
      "       133.0       0.00      0.00      0.00         1\n",
      "       134.0       0.00      0.00      0.00         1\n",
      "       161.0       0.00      0.00      0.00         1\n",
      "       194.0       0.00      0.00      0.00         1\n",
      "       229.0       0.00      0.00      0.00         1\n",
      "\n",
      "    accuracy                           0.22       528\n",
      "   macro avg       0.00      0.01      0.01       528\n",
      "weighted avg       0.05      0.22      0.08       528\n",
      "\n"
     ]
    },
    {
     "name": "stderr",
     "output_type": "stream",
     "text": [
      "C:\\Users\\gress\\anaconda3\\lib\\site-packages\\sklearn\\metrics\\_classification.py:1245: UndefinedMetricWarning: Precision and F-score are ill-defined and being set to 0.0 in labels with no predicted samples. Use `zero_division` parameter to control this behavior.\n",
      "  _warn_prf(average, modifier, msg_start, len(result))\n",
      "C:\\Users\\gress\\anaconda3\\lib\\site-packages\\sklearn\\metrics\\_classification.py:1245: UndefinedMetricWarning: Precision and F-score are ill-defined and being set to 0.0 in labels with no predicted samples. Use `zero_division` parameter to control this behavior.\n",
      "  _warn_prf(average, modifier, msg_start, len(result))\n",
      "C:\\Users\\gress\\anaconda3\\lib\\site-packages\\sklearn\\metrics\\_classification.py:1245: UndefinedMetricWarning: Precision and F-score are ill-defined and being set to 0.0 in labels with no predicted samples. Use `zero_division` parameter to control this behavior.\n",
      "  _warn_prf(average, modifier, msg_start, len(result))\n"
     ]
    }
   ],
   "source": [
    "grid_predictions = CV_svm.predict(X_test)\n",
    "print(confusion_matrix(Y_test, grid_predictions))\n",
    "print('\\n')\n",
    "print(classification_report(Y_test, grid_predictions))"
   ]
  },
  {
   "cell_type": "markdown",
   "id": "56f06708",
   "metadata": {},
   "source": [
    "<h1>Random Forest</h1>"
   ]
  },
  {
   "cell_type": "code",
   "execution_count": 28,
   "id": "576af0e4",
   "metadata": {},
   "outputs": [],
   "source": [
    "clf = RandomForestClassifier(max_depth=2, random_state=0)\n",
    "clf.fit(X_train, Y_train)\n",
    "y_pred = clf.predict(X_test)"
   ]
  },
  {
   "cell_type": "code",
   "execution_count": 29,
   "id": "e4f21248",
   "metadata": {
    "scrolled": true
   },
   "outputs": [
    {
     "name": "stdout",
     "output_type": "stream",
     "text": [
      "[[116   0   0 ...   0   0   0]\n",
      " [ 84   0   0 ...   0   0   0]\n",
      " [ 43   0   0 ...   0   0   0]\n",
      " ...\n",
      " [  1   0   0 ...   0   0   0]\n",
      " [  0   0   1 ...   0   0   0]\n",
      " [  0   0   1 ...   0   0   0]]\n",
      "\n",
      "\n",
      "              precision    recall  f1-score   support\n",
      "\n",
      "         1.0       0.26      1.00      0.41       116\n",
      "         2.0       0.00      0.00      0.00        84\n",
      "         3.0       0.00      0.00      0.00        43\n",
      "         4.0       0.00      0.00      0.00        38\n",
      "         5.0       0.00      0.00      0.00        25\n",
      "         6.0       0.00      0.00      0.00        22\n",
      "         7.0       0.00      0.00      0.00         9\n",
      "         8.0       0.00      0.00      0.00        18\n",
      "         9.0       0.00      0.00      0.00        10\n",
      "        10.0       0.00      0.00      0.00        11\n",
      "        11.0       0.00      0.00      0.00         9\n",
      "        12.0       0.00      0.00      0.00         6\n",
      "        13.0       0.00      0.00      0.00         6\n",
      "        14.0       0.00      0.00      0.00         3\n",
      "        15.0       0.00      0.00      0.00        10\n",
      "        16.0       0.00      0.00      0.00         6\n",
      "        17.0       0.00      0.00      0.00         4\n",
      "        18.0       0.00      0.00      0.00         4\n",
      "        19.0       0.00      0.00      0.00         3\n",
      "        20.0       0.00      0.00      0.00         9\n",
      "        21.0       0.00      0.00      0.00         2\n",
      "        22.0       0.00      0.00      0.00         6\n",
      "        23.0       0.00      0.00      0.00         1\n",
      "        24.0       0.00      0.00      0.00         5\n",
      "        25.0       0.00      0.00      0.00         3\n",
      "        26.0       0.00      0.00      0.00         3\n",
      "        27.0       0.00      0.00      0.00         1\n",
      "        29.0       0.00      0.00      0.00         4\n",
      "        30.0       0.00      0.00      0.00         5\n",
      "        31.0       0.00      0.00      0.00         3\n",
      "        32.0       0.00      0.00      0.00         3\n",
      "        33.0       0.00      0.00      0.00         1\n",
      "        35.0       0.00      0.00      0.00         2\n",
      "        36.0       0.00      0.00      0.00         2\n",
      "        37.0       0.00      0.00      0.00         3\n",
      "        39.0       0.00      0.00      0.00         2\n",
      "        40.0       0.00      0.00      0.00         1\n",
      "        42.0       0.00      0.00      0.00         2\n",
      "        43.0       0.00      0.00      0.00         1\n",
      "        45.0       0.00      0.00      0.00         1\n",
      "        47.0       0.00      0.00      0.00         2\n",
      "        51.0       0.00      0.00      0.00         2\n",
      "        55.0       0.00      0.00      0.00         1\n",
      "        56.0       0.00      0.00      0.00         2\n",
      "        57.0       0.00      0.00      0.00         1\n",
      "        58.0       0.00      0.00      0.00         2\n",
      "        59.0       0.00      0.00      0.00         1\n",
      "        63.0       0.00      0.00      0.00         1\n",
      "        64.0       0.00      0.00      0.00         2\n",
      "        66.0       0.00      0.00      0.00         1\n",
      "        68.0       0.00      0.00      0.00         2\n",
      "        74.0       0.00      0.00      0.00         1\n",
      "        75.0       0.00      0.00      0.00         1\n",
      "        77.0       0.00      0.00      0.00         1\n",
      "        79.0       0.00      0.00      0.00         1\n",
      "        80.0       0.00      0.00      0.00         2\n",
      "        86.0       0.00      0.00      0.00         1\n",
      "        90.0       0.00      0.00      0.00         2\n",
      "        97.0       0.00      0.00      0.00         1\n",
      "        98.0       0.00      0.00      0.00         1\n",
      "       109.0       0.00      0.00      0.00         1\n",
      "       117.0       0.00      0.00      0.00         1\n",
      "       119.0       0.00      0.00      0.00         1\n",
      "       123.0       0.00      0.00      0.00         1\n",
      "       126.0       0.00      0.00      0.00         2\n",
      "       129.0       0.00      0.00      0.00         1\n",
      "       132.0       0.00      0.00      0.00         1\n",
      "       133.0       0.00      0.00      0.00         1\n",
      "       134.0       0.00      0.00      0.00         1\n",
      "       161.0       0.00      0.00      0.00         1\n",
      "       194.0       0.00      0.00      0.00         1\n",
      "       229.0       0.00      0.00      0.00         1\n",
      "\n",
      "    accuracy                           0.22       528\n",
      "   macro avg       0.00      0.01      0.01       528\n",
      "weighted avg       0.06      0.22      0.09       528\n",
      "\n"
     ]
    },
    {
     "name": "stderr",
     "output_type": "stream",
     "text": [
      "C:\\Users\\gress\\anaconda3\\lib\\site-packages\\sklearn\\metrics\\_classification.py:1245: UndefinedMetricWarning: Precision and F-score are ill-defined and being set to 0.0 in labels with no predicted samples. Use `zero_division` parameter to control this behavior.\n",
      "  _warn_prf(average, modifier, msg_start, len(result))\n",
      "C:\\Users\\gress\\anaconda3\\lib\\site-packages\\sklearn\\metrics\\_classification.py:1245: UndefinedMetricWarning: Precision and F-score are ill-defined and being set to 0.0 in labels with no predicted samples. Use `zero_division` parameter to control this behavior.\n",
      "  _warn_prf(average, modifier, msg_start, len(result))\n",
      "C:\\Users\\gress\\anaconda3\\lib\\site-packages\\sklearn\\metrics\\_classification.py:1245: UndefinedMetricWarning: Precision and F-score are ill-defined and being set to 0.0 in labels with no predicted samples. Use `zero_division` parameter to control this behavior.\n",
      "  _warn_prf(average, modifier, msg_start, len(result))\n"
     ]
    }
   ],
   "source": [
    "print(confusion_matrix(Y_test, y_pred))\n",
    "print('\\n')\n",
    "print(classification_report(Y_test, y_pred))"
   ]
  },
  {
   "cell_type": "markdown",
   "id": "4aedc500",
   "metadata": {},
   "source": [
    "GridSearch RandomForest"
   ]
  },
  {
   "cell_type": "code",
   "execution_count": 32,
   "id": "d40239ac",
   "metadata": {},
   "outputs": [
    {
     "name": "stderr",
     "output_type": "stream",
     "text": [
      "C:\\Users\\gress\\anaconda3\\lib\\site-packages\\sklearn\\model_selection\\_split.py:666: UserWarning: The least populated class in y has only 1 members, which is less than n_splits=5.\n",
      "  warnings.warn((\"The least populated class in y has only %d\"\n"
     ]
    },
    {
     "data": {
      "text/plain": [
       "GridSearchCV(estimator=RandomForestClassifier(), n_jobs=-1,\n",
       "             param_grid={'criterion': ['gini', 'entropy'],\n",
       "                         'max_depth': [4, 5, 6, 7, 8]})"
      ]
     },
     "execution_count": 32,
     "metadata": {},
     "output_type": "execute_result"
    }
   ],
   "source": [
    "param_grid = { \n",
    "    'max_depth' : [4,5,6,7,8],\n",
    "    'criterion' :['gini', 'entropy']\n",
    "}\n",
    "CV_rfc = GridSearchCV(RandomForestClassifier() , param_grid, n_jobs=-1)\n",
    "CV_rfc.fit(X_train, Y_train)\n"
   ]
  },
  {
   "cell_type": "code",
   "execution_count": 34,
   "id": "86063eb7",
   "metadata": {},
   "outputs": [
    {
     "data": {
      "text/plain": [
       "{'criterion': 'entropy', 'max_depth': 8}"
      ]
     },
     "execution_count": 34,
     "metadata": {},
     "output_type": "execute_result"
    }
   ],
   "source": [
    "CV_rfc.best_params_"
   ]
  },
  {
   "cell_type": "code",
   "execution_count": 36,
   "id": "d5882d72",
   "metadata": {},
   "outputs": [
    {
     "name": "stdout",
     "output_type": "stream",
     "text": [
      "[[114   1   1 ...   0   0   0]\n",
      " [ 18  55   9 ...   0   0   0]\n",
      " [  0  13  26 ...   0   0   0]\n",
      " ...\n",
      " [  0   0   0 ...   0   0   0]\n",
      " [  0   0   0 ...   0   0   0]\n",
      " [  0   0   0 ...   0   0   0]]\n",
      "\n",
      "\n",
      "              precision    recall  f1-score   support\n",
      "\n",
      "         1.0       0.84      0.98      0.91       116\n",
      "         2.0       0.73      0.65      0.69        84\n",
      "         3.0       0.37      0.60      0.46        43\n",
      "         4.0       0.37      0.29      0.32        38\n",
      "         5.0       0.23      0.24      0.24        25\n",
      "         6.0       0.17      0.09      0.12        22\n",
      "         7.0       0.00      0.00      0.00         9\n",
      "         8.0       0.16      0.17      0.16        18\n",
      "         9.0       0.00      0.00      0.00        10\n",
      "        10.0       0.29      0.18      0.22        11\n",
      "        11.0       0.00      0.00      0.00         9\n",
      "        12.0       0.00      0.00      0.00         6\n",
      "        13.0       1.00      0.17      0.29         6\n",
      "        14.0       0.00      0.00      0.00         3\n",
      "        15.0       0.17      0.10      0.12        10\n",
      "        16.0       0.10      0.17      0.12         6\n",
      "        17.0       0.00      0.00      0.00         4\n",
      "        18.0       0.00      0.00      0.00         4\n",
      "        19.0       0.25      0.33      0.29         3\n",
      "        20.0       0.50      0.11      0.18         9\n",
      "        21.0       0.10      0.50      0.17         2\n",
      "        22.0       0.00      0.00      0.00         6\n",
      "        23.0       0.00      0.00      0.00         1\n",
      "        24.0       0.00      0.00      0.00         5\n",
      "        25.0       0.00      0.00      0.00         3\n",
      "        26.0       0.20      0.33      0.25         3\n",
      "        27.0       0.00      0.00      0.00         1\n",
      "        28.0       0.00      0.00      0.00         0\n",
      "        29.0       1.00      0.25      0.40         4\n",
      "        30.0       0.00      0.00      0.00         5\n",
      "        31.0       0.00      0.00      0.00         3\n",
      "        32.0       0.00      0.00      0.00         3\n",
      "        33.0       0.00      0.00      0.00         1\n",
      "        35.0       0.00      0.00      0.00         2\n",
      "        36.0       0.00      0.00      0.00         2\n",
      "        37.0       0.00      0.00      0.00         3\n",
      "        38.0       0.00      0.00      0.00         0\n",
      "        39.0       0.00      0.00      0.00         2\n",
      "        40.0       0.00      0.00      0.00         1\n",
      "        42.0       0.00      0.00      0.00         2\n",
      "        43.0       0.00      0.00      0.00         1\n",
      "        44.0       0.00      0.00      0.00         0\n",
      "        45.0       0.00      0.00      0.00         1\n",
      "        46.0       0.00      0.00      0.00         0\n",
      "        47.0       0.67      1.00      0.80         2\n",
      "        50.0       0.00      0.00      0.00         0\n",
      "        51.0       0.00      0.00      0.00         2\n",
      "        55.0       0.00      0.00      0.00         1\n",
      "        56.0       0.00      0.00      0.00         2\n",
      "        57.0       0.00      0.00      0.00         1\n",
      "        58.0       0.00      0.00      0.00         2\n",
      "        59.0       0.00      0.00      0.00         1\n",
      "        61.0       0.00      0.00      0.00         0\n",
      "        63.0       0.00      0.00      0.00         1\n",
      "        64.0       1.00      0.50      0.67         2\n",
      "        66.0       0.00      0.00      0.00         1\n",
      "        68.0       0.00      0.00      0.00         2\n",
      "        72.0       0.00      0.00      0.00         0\n",
      "        74.0       0.00      0.00      0.00         1\n",
      "        75.0       0.00      0.00      0.00         1\n",
      "        77.0       0.00      0.00      0.00         1\n",
      "        79.0       0.00      0.00      0.00         1\n",
      "        80.0       0.00      0.00      0.00         2\n",
      "        84.0       0.00      0.00      0.00         0\n",
      "        85.0       0.00      0.00      0.00         0\n",
      "        86.0       0.00      0.00      0.00         1\n",
      "        90.0       0.00      0.00      0.00         2\n",
      "        95.0       0.00      0.00      0.00         0\n",
      "        97.0       0.00      0.00      0.00         1\n",
      "        98.0       0.00      0.00      0.00         1\n",
      "       102.0       0.00      0.00      0.00         0\n",
      "       107.0       0.00      0.00      0.00         0\n",
      "       109.0       0.00      0.00      0.00         1\n",
      "       112.0       0.00      0.00      0.00         0\n",
      "       116.0       0.00      0.00      0.00         0\n",
      "       117.0       0.00      0.00      0.00         1\n",
      "       119.0       0.00      0.00      0.00         1\n",
      "       123.0       0.00      0.00      0.00         1\n",
      "       124.0       0.00      0.00      0.00         0\n",
      "       126.0       0.00      0.00      0.00         2\n",
      "       129.0       0.00      0.00      0.00         1\n",
      "       132.0       0.00      0.00      0.00         1\n",
      "       133.0       0.00      0.00      0.00         1\n",
      "       134.0       0.00      0.00      0.00         1\n",
      "       156.0       0.00      0.00      0.00         0\n",
      "       161.0       0.00      0.00      0.00         1\n",
      "       194.0       0.00      0.00      0.00         1\n",
      "       210.0       0.00      0.00      0.00         0\n",
      "       229.0       0.00      0.00      0.00         1\n",
      "       241.0       0.00      0.00      0.00         0\n",
      "       242.0       0.00      0.00      0.00         0\n",
      "\n",
      "    accuracy                           0.44       528\n",
      "   macro avg       0.09      0.07      0.07       528\n",
      "weighted avg       0.43      0.44      0.42       528\n",
      "\n"
     ]
    },
    {
     "name": "stderr",
     "output_type": "stream",
     "text": [
      "C:\\Users\\gress\\anaconda3\\lib\\site-packages\\sklearn\\metrics\\_classification.py:1245: UndefinedMetricWarning: Precision and F-score are ill-defined and being set to 0.0 in labels with no predicted samples. Use `zero_division` parameter to control this behavior.\n",
      "  _warn_prf(average, modifier, msg_start, len(result))\n",
      "C:\\Users\\gress\\anaconda3\\lib\\site-packages\\sklearn\\metrics\\_classification.py:1245: UndefinedMetricWarning: Recall and F-score are ill-defined and being set to 0.0 in labels with no true samples. Use `zero_division` parameter to control this behavior.\n",
      "  _warn_prf(average, modifier, msg_start, len(result))\n",
      "C:\\Users\\gress\\anaconda3\\lib\\site-packages\\sklearn\\metrics\\_classification.py:1245: UndefinedMetricWarning: Precision and F-score are ill-defined and being set to 0.0 in labels with no predicted samples. Use `zero_division` parameter to control this behavior.\n",
      "  _warn_prf(average, modifier, msg_start, len(result))\n",
      "C:\\Users\\gress\\anaconda3\\lib\\site-packages\\sklearn\\metrics\\_classification.py:1245: UndefinedMetricWarning: Recall and F-score are ill-defined and being set to 0.0 in labels with no true samples. Use `zero_division` parameter to control this behavior.\n",
      "  _warn_prf(average, modifier, msg_start, len(result))\n",
      "C:\\Users\\gress\\anaconda3\\lib\\site-packages\\sklearn\\metrics\\_classification.py:1245: UndefinedMetricWarning: Precision and F-score are ill-defined and being set to 0.0 in labels with no predicted samples. Use `zero_division` parameter to control this behavior.\n",
      "  _warn_prf(average, modifier, msg_start, len(result))\n",
      "C:\\Users\\gress\\anaconda3\\lib\\site-packages\\sklearn\\metrics\\_classification.py:1245: UndefinedMetricWarning: Recall and F-score are ill-defined and being set to 0.0 in labels with no true samples. Use `zero_division` parameter to control this behavior.\n",
      "  _warn_prf(average, modifier, msg_start, len(result))\n"
     ]
    }
   ],
   "source": [
    "grid_predictions = CV_rfc.predict(X_test)\n",
    "print(confusion_matrix(Y_test, grid_predictions))\n",
    "print('\\n')\n",
    "print(classification_report(Y_test, grid_predictions))"
   ]
  },
  {
   "cell_type": "markdown",
   "id": "da327b0e",
   "metadata": {},
   "source": [
    "<h1>AdaBoost</h1>"
   ]
  },
  {
   "cell_type": "code",
   "execution_count": 18,
   "id": "4de02432",
   "metadata": {},
   "outputs": [],
   "source": [
    "clf = AdaBoostClassifier(n_estimators=100, random_state=0)\n",
    "clf.fit(X_train, Y_train)\n",
    "y_pred = clf.predict(X_test)"
   ]
  },
  {
   "cell_type": "code",
   "execution_count": 19,
   "id": "03e08635",
   "metadata": {},
   "outputs": [
    {
     "name": "stdout",
     "output_type": "stream",
     "text": [
      "[[ 3 16  1 ...  0  0  0]\n",
      " [ 0 11  2 ...  0  0  0]\n",
      " [ 0  8  0 ...  0  0  0]\n",
      " ...\n",
      " [ 0  1  0 ...  0  0  0]\n",
      " [ 0  0  0 ...  0  0  0]\n",
      " [ 0  1  0 ...  0  0  0]]\n",
      "\n",
      "\n",
      "              precision    recall  f1-score   support\n",
      "\n",
      "         1.0       1.00      0.03      0.05       116\n",
      "         2.0       0.07      0.13      0.09        84\n",
      "         3.0       0.00      0.00      0.00        43\n",
      "         4.0       0.01      0.03      0.01        38\n",
      "         5.0       0.00      0.00      0.00        25\n",
      "         6.0       0.00      0.00      0.00        22\n",
      "         7.0       0.02      0.33      0.03         9\n",
      "         8.0       0.00      0.00      0.00        18\n",
      "         9.0       0.00      0.00      0.00        10\n",
      "        10.0       0.00      0.00      0.00        11\n",
      "        11.0       0.00      0.00      0.00         9\n",
      "        12.0       0.00      0.00      0.00         6\n",
      "        13.0       0.00      0.00      0.00         6\n",
      "        14.0       0.00      0.00      0.00         3\n",
      "        15.0       0.00      0.00      0.00        10\n",
      "        16.0       0.00      0.00      0.00         6\n",
      "        17.0       0.00      0.00      0.00         4\n",
      "        18.0       0.00      0.00      0.00         4\n",
      "        19.0       0.00      0.00      0.00         3\n",
      "        20.0       0.00      0.00      0.00         9\n",
      "        21.0       0.00      0.00      0.00         2\n",
      "        22.0       0.00      0.00      0.00         6\n",
      "        23.0       0.00      0.00      0.00         1\n",
      "        24.0       0.00      0.00      0.00         5\n",
      "        25.0       0.00      0.00      0.00         3\n",
      "        26.0       0.00      0.00      0.00         3\n",
      "        27.0       0.00      0.00      0.00         1\n",
      "        29.0       0.00      0.00      0.00         4\n",
      "        30.0       0.00      0.00      0.00         5\n",
      "        31.0       0.00      0.00      0.00         3\n",
      "        32.0       0.00      0.00      0.00         3\n",
      "        33.0       0.00      0.00      0.00         1\n",
      "        35.0       0.00      0.00      0.00         2\n",
      "        36.0       0.00      0.00      0.00         2\n",
      "        37.0       0.00      0.00      0.00         3\n",
      "        38.0       0.00      0.00      0.00         0\n",
      "        39.0       0.00      0.00      0.00         2\n",
      "        40.0       0.00      0.00      0.00         1\n",
      "        42.0       0.00      0.00      0.00         2\n",
      "        43.0       0.00      0.00      0.00         1\n",
      "        44.0       0.00      0.00      0.00         0\n",
      "        45.0       0.00      0.00      0.00         1\n",
      "        46.0       0.00      0.00      0.00         0\n",
      "        47.0       0.00      0.00      0.00         2\n",
      "        50.0       0.00      0.00      0.00         0\n",
      "        51.0       0.00      0.00      0.00         2\n",
      "        55.0       0.00      0.00      0.00         1\n",
      "        56.0       0.00      0.00      0.00         2\n",
      "        57.0       0.00      0.00      0.00         1\n",
      "        58.0       0.00      0.00      0.00         2\n",
      "        59.0       0.00      0.00      0.00         1\n",
      "        63.0       0.00      0.00      0.00         1\n",
      "        64.0       0.11      0.50      0.18         2\n",
      "        66.0       0.00      0.00      0.00         1\n",
      "        68.0       0.00      0.00      0.00         2\n",
      "        74.0       0.00      0.00      0.00         1\n",
      "        75.0       0.00      0.00      0.00         1\n",
      "        77.0       0.00      0.00      0.00         1\n",
      "        79.0       0.00      0.00      0.00         1\n",
      "        80.0       0.00      0.00      0.00         2\n",
      "        86.0       0.00      0.00      0.00         1\n",
      "        90.0       0.00      0.00      0.00         2\n",
      "        95.0       0.00      0.00      0.00         0\n",
      "        97.0       0.00      0.00      0.00         1\n",
      "        98.0       0.00      0.00      0.00         1\n",
      "       109.0       0.00      0.00      0.00         1\n",
      "       112.0       0.00      0.00      0.00         0\n",
      "       117.0       0.00      0.00      0.00         1\n",
      "       119.0       0.00      0.00      0.00         1\n",
      "       123.0       0.00      0.00      0.00         1\n",
      "       126.0       0.00      0.00      0.00         2\n",
      "       129.0       0.00      0.00      0.00         1\n",
      "       132.0       0.00      0.00      0.00         1\n",
      "       133.0       0.00      0.00      0.00         1\n",
      "       134.0       0.00      0.00      0.00         1\n",
      "       161.0       0.00      0.00      0.00         1\n",
      "       194.0       0.00      0.00      0.00         1\n",
      "       229.0       0.00      0.00      0.00         1\n",
      "\n",
      "    accuracy                           0.04       528\n",
      "   macro avg       0.02      0.01      0.00       528\n",
      "weighted avg       0.23      0.04      0.03       528\n",
      "\n"
     ]
    },
    {
     "name": "stderr",
     "output_type": "stream",
     "text": [
      "C:\\Users\\gress\\anaconda3\\lib\\site-packages\\sklearn\\metrics\\_classification.py:1245: UndefinedMetricWarning: Precision and F-score are ill-defined and being set to 0.0 in labels with no predicted samples. Use `zero_division` parameter to control this behavior.\n",
      "  _warn_prf(average, modifier, msg_start, len(result))\n",
      "C:\\Users\\gress\\anaconda3\\lib\\site-packages\\sklearn\\metrics\\_classification.py:1245: UndefinedMetricWarning: Recall and F-score are ill-defined and being set to 0.0 in labels with no true samples. Use `zero_division` parameter to control this behavior.\n",
      "  _warn_prf(average, modifier, msg_start, len(result))\n",
      "C:\\Users\\gress\\anaconda3\\lib\\site-packages\\sklearn\\metrics\\_classification.py:1245: UndefinedMetricWarning: Precision and F-score are ill-defined and being set to 0.0 in labels with no predicted samples. Use `zero_division` parameter to control this behavior.\n",
      "  _warn_prf(average, modifier, msg_start, len(result))\n",
      "C:\\Users\\gress\\anaconda3\\lib\\site-packages\\sklearn\\metrics\\_classification.py:1245: UndefinedMetricWarning: Recall and F-score are ill-defined and being set to 0.0 in labels with no true samples. Use `zero_division` parameter to control this behavior.\n",
      "  _warn_prf(average, modifier, msg_start, len(result))\n",
      "C:\\Users\\gress\\anaconda3\\lib\\site-packages\\sklearn\\metrics\\_classification.py:1245: UndefinedMetricWarning: Precision and F-score are ill-defined and being set to 0.0 in labels with no predicted samples. Use `zero_division` parameter to control this behavior.\n",
      "  _warn_prf(average, modifier, msg_start, len(result))\n",
      "C:\\Users\\gress\\anaconda3\\lib\\site-packages\\sklearn\\metrics\\_classification.py:1245: UndefinedMetricWarning: Recall and F-score are ill-defined and being set to 0.0 in labels with no true samples. Use `zero_division` parameter to control this behavior.\n",
      "  _warn_prf(average, modifier, msg_start, len(result))\n"
     ]
    }
   ],
   "source": [
    "print(confusion_matrix(Y_test, y_pred))\n",
    "print('\\n')\n",
    "print(classification_report(Y_test, y_pred))"
   ]
  },
  {
   "cell_type": "markdown",
   "id": "b09f5847",
   "metadata": {},
   "source": [
    "GridSearch AdaBoost"
   ]
  },
  {
   "cell_type": "code",
   "execution_count": 39,
   "id": "7d237a7a",
   "metadata": {
    "scrolled": true
   },
   "outputs": [
    {
     "name": "stderr",
     "output_type": "stream",
     "text": [
      "C:\\Users\\gress\\anaconda3\\lib\\site-packages\\sklearn\\model_selection\\_split.py:666: UserWarning: The least populated class in y has only 1 members, which is less than n_splits=5.\n",
      "  warnings.warn((\"The least populated class in y has only %d\"\n"
     ]
    },
    {
     "data": {
      "text/plain": [
       "GridSearchCV(estimator=AdaBoostClassifier(), n_jobs=-1,\n",
       "             param_grid={'learning_rate': [0.01, 0.05, 0.1, 0.3, 1],\n",
       "                         'n_estimators': [10, 20, 30, 40, 50]})"
      ]
     },
     "execution_count": 39,
     "metadata": {},
     "output_type": "execute_result"
    }
   ],
   "source": [
    "param_grid = {\n",
    " 'n_estimators': [10, 20, 30, 40, 50],\n",
    " 'learning_rate' : [0.01,0.05,0.1,0.3,1],\n",
    " }\n",
    "CV_ab = GridSearchCV(AdaBoostClassifier(), param_grid, n_jobs=-1)\n",
    "CV_ab.fit(X_train, Y_train)"
   ]
  },
  {
   "cell_type": "code",
   "execution_count": 40,
   "id": "0f850295",
   "metadata": {},
   "outputs": [
    {
     "data": {
      "text/plain": [
       "{'learning_rate': 0.01, 'n_estimators': 20}"
      ]
     },
     "execution_count": 40,
     "metadata": {},
     "output_type": "execute_result"
    }
   ],
   "source": [
    "CV_ab.best_params_"
   ]
  },
  {
   "cell_type": "code",
   "execution_count": 41,
   "id": "86ffb26b",
   "metadata": {
    "scrolled": true
   },
   "outputs": [
    {
     "name": "stdout",
     "output_type": "stream",
     "text": [
      "[[116   0   0 ...   0   0   0]\n",
      " [ 67   0  17 ...   0   0   0]\n",
      " [ 29   0  14 ...   0   0   0]\n",
      " ...\n",
      " [  0   0   1 ...   0   0   0]\n",
      " [  0   0   1 ...   0   0   0]\n",
      " [  0   0   1 ...   0   0   0]]\n",
      "\n",
      "\n",
      "              precision    recall  f1-score   support\n",
      "\n",
      "         1.0       0.32      1.00      0.49       116\n",
      "         2.0       0.00      0.00      0.00        84\n",
      "         3.0       0.08      0.33      0.13        43\n",
      "         4.0       0.00      0.00      0.00        38\n",
      "         5.0       0.00      0.00      0.00        25\n",
      "         6.0       0.00      0.00      0.00        22\n",
      "         7.0       0.00      0.00      0.00         9\n",
      "         8.0       0.00      0.00      0.00        18\n",
      "         9.0       0.00      0.00      0.00        10\n",
      "        10.0       0.00      0.00      0.00        11\n",
      "        11.0       0.00      0.00      0.00         9\n",
      "        12.0       0.00      0.00      0.00         6\n",
      "        13.0       0.00      0.00      0.00         6\n",
      "        14.0       0.00      0.00      0.00         3\n",
      "        15.0       0.00      0.00      0.00        10\n",
      "        16.0       0.00      0.00      0.00         6\n",
      "        17.0       0.00      0.00      0.00         4\n",
      "        18.0       0.00      0.00      0.00         4\n",
      "        19.0       0.00      0.00      0.00         3\n",
      "        20.0       0.00      0.00      0.00         9\n",
      "        21.0       0.00      0.00      0.00         2\n",
      "        22.0       0.00      0.00      0.00         6\n",
      "        23.0       0.00      0.00      0.00         1\n",
      "        24.0       0.00      0.00      0.00         5\n",
      "        25.0       0.00      0.00      0.00         3\n",
      "        26.0       0.00      0.00      0.00         3\n",
      "        27.0       0.00      0.00      0.00         1\n",
      "        29.0       0.00      0.00      0.00         4\n",
      "        30.0       0.00      0.00      0.00         5\n",
      "        31.0       0.00      0.00      0.00         3\n",
      "        32.0       0.00      0.00      0.00         3\n",
      "        33.0       0.00      0.00      0.00         1\n",
      "        35.0       0.00      0.00      0.00         2\n",
      "        36.0       0.00      0.00      0.00         2\n",
      "        37.0       0.00      0.00      0.00         3\n",
      "        39.0       0.00      0.00      0.00         2\n",
      "        40.0       0.00      0.00      0.00         1\n",
      "        42.0       0.00      0.00      0.00         2\n",
      "        43.0       0.00      0.00      0.00         1\n",
      "        45.0       0.00      0.00      0.00         1\n",
      "        47.0       0.00      0.00      0.00         2\n",
      "        51.0       0.00      0.00      0.00         2\n",
      "        55.0       0.00      0.00      0.00         1\n",
      "        56.0       0.00      0.00      0.00         2\n",
      "        57.0       0.00      0.00      0.00         1\n",
      "        58.0       0.00      0.00      0.00         2\n",
      "        59.0       0.00      0.00      0.00         1\n",
      "        63.0       0.00      0.00      0.00         1\n",
      "        64.0       0.00      0.00      0.00         2\n",
      "        66.0       0.00      0.00      0.00         1\n",
      "        68.0       0.00      0.00      0.00         2\n",
      "        74.0       0.00      0.00      0.00         1\n",
      "        75.0       0.00      0.00      0.00         1\n",
      "        77.0       0.00      0.00      0.00         1\n",
      "        79.0       0.00      0.00      0.00         1\n",
      "        80.0       0.00      0.00      0.00         2\n",
      "        86.0       0.00      0.00      0.00         1\n",
      "        90.0       0.00      0.00      0.00         2\n",
      "        97.0       0.00      0.00      0.00         1\n",
      "        98.0       0.00      0.00      0.00         1\n",
      "       109.0       0.00      0.00      0.00         1\n",
      "       117.0       0.00      0.00      0.00         1\n",
      "       119.0       0.00      0.00      0.00         1\n",
      "       123.0       0.00      0.00      0.00         1\n",
      "       126.0       0.00      0.00      0.00         2\n",
      "       129.0       0.00      0.00      0.00         1\n",
      "       132.0       0.00      0.00      0.00         1\n",
      "       133.0       0.00      0.00      0.00         1\n",
      "       134.0       0.00      0.00      0.00         1\n",
      "       161.0       0.00      0.00      0.00         1\n",
      "       194.0       0.00      0.00      0.00         1\n",
      "       229.0       0.00      0.00      0.00         1\n",
      "\n",
      "    accuracy                           0.25       528\n",
      "   macro avg       0.01      0.02      0.01       528\n",
      "weighted avg       0.08      0.25      0.12       528\n",
      "\n"
     ]
    },
    {
     "name": "stderr",
     "output_type": "stream",
     "text": [
      "C:\\Users\\gress\\anaconda3\\lib\\site-packages\\sklearn\\metrics\\_classification.py:1245: UndefinedMetricWarning: Precision and F-score are ill-defined and being set to 0.0 in labels with no predicted samples. Use `zero_division` parameter to control this behavior.\n",
      "  _warn_prf(average, modifier, msg_start, len(result))\n",
      "C:\\Users\\gress\\anaconda3\\lib\\site-packages\\sklearn\\metrics\\_classification.py:1245: UndefinedMetricWarning: Precision and F-score are ill-defined and being set to 0.0 in labels with no predicted samples. Use `zero_division` parameter to control this behavior.\n",
      "  _warn_prf(average, modifier, msg_start, len(result))\n",
      "C:\\Users\\gress\\anaconda3\\lib\\site-packages\\sklearn\\metrics\\_classification.py:1245: UndefinedMetricWarning: Precision and F-score are ill-defined and being set to 0.0 in labels with no predicted samples. Use `zero_division` parameter to control this behavior.\n",
      "  _warn_prf(average, modifier, msg_start, len(result))\n"
     ]
    }
   ],
   "source": [
    "grid_predictions = CV_ab.predict(X_test)\n",
    "print(confusion_matrix(Y_test, grid_predictions))\n",
    "print('\\n')\n",
    "print(classification_report(Y_test, grid_predictions))"
   ]
  },
  {
   "cell_type": "code",
   "execution_count": null,
   "id": "ac060ee4",
   "metadata": {},
   "outputs": [],
   "source": []
  }
 ],
 "metadata": {
  "kernelspec": {
   "display_name": "Python 3",
   "language": "python",
   "name": "python3"
  },
  "language_info": {
   "codemirror_mode": {
    "name": "ipython",
    "version": 3
   },
   "file_extension": ".py",
   "mimetype": "text/x-python",
   "name": "python",
   "nbconvert_exporter": "python",
   "pygments_lexer": "ipython3",
   "version": "3.8.8"
  }
 },
 "nbformat": 4,
 "nbformat_minor": 5
}
