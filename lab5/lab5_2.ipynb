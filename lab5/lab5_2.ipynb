{
 "cells": [
  {
   "cell_type": "code",
   "execution_count": 18,
   "id": "b81a8c97",
   "metadata": {},
   "outputs": [
    {
     "name": "stdout",
     "output_type": "stream",
     "text": [
      "Found 1813 files belonging to 1 classes.\n",
      "Epoch 1/10\n",
      "57/57 [==============================] - 383s 7s/step - d_loss: 0.5184 - g_loss: 1.1989\n",
      "Epoch 2/10\n",
      "57/57 [==============================] - 382s 7s/step - d_loss: 0.3814 - g_loss: 1.9747\n",
      "Epoch 3/10\n",
      "57/57 [==============================] - 377s 7s/step - d_loss: 0.5017 - g_loss: 1.6988\n",
      "Epoch 4/10\n",
      "57/57 [==============================] - 377s 7s/step - d_loss: 0.4678 - g_loss: 2.7610\n",
      "Epoch 5/10\n",
      "57/57 [==============================] - 381s 7s/step - d_loss: 0.5671 - g_loss: 1.5808\n",
      "Epoch 6/10\n",
      "57/57 [==============================] - 365s 6s/step - d_loss: 0.5662 - g_loss: 1.7450\n",
      "Epoch 7/10\n",
      "57/57 [==============================] - 353s 6s/step - d_loss: 0.7118 - g_loss: 0.9588\n",
      "Epoch 8/10\n",
      "57/57 [==============================] - 352s 6s/step - d_loss: 0.4841 - g_loss: 1.6601\n",
      "Epoch 9/10\n",
      "57/57 [==============================] - 353s 6s/step - d_loss: 0.6557 - g_loss: 1.3849\n",
      "Epoch 10/10\n",
      "57/57 [==============================] - 352s 6s/step - d_loss: 0.4644 - g_loss: 1.9411\n"
     ]
    },
    {
     "data": {
      "text/plain": [
       "<keras.callbacks.History at 0x7f8de9ba4f70>"
      ]
     },
     "execution_count": 18,
     "metadata": {},
     "output_type": "execute_result"
    }
   ],
   "source": [
    "from tensorflow import keras\n",
    "from tensorflow.keras import layers\n",
    "from zipfile import ZipFile\n",
    "import sys\n",
    "from PIL import Image\n",
    "sys.modules['Image'] = Image \n",
    "import matplotlib.pyplot as plt\n",
    "import tensorflow as tf\n",
    "import numpy as np\n",
    "import imageio\n",
    "\n",
    "\n",
    "batch_size = 32\n",
    "image_size = 64\n",
    "latent_dim = 64\n",
    "\n",
    "# archive with images of different emojis\n",
    "with ZipFile(\"archive_emoji_apple.zip\", \"r\") as zipobj:\n",
    "    try:\n",
    "        zipobj.extractall(\"image_emoji_apple\")\n",
    "    except OSError as exc:\n",
    "        if exc.errno == 36:\n",
    "            pass\n",
    "        else:\n",
    "            raise exc\n",
    "    \n",
    "    \n",
    "dataset = keras.preprocessing.image_dataset_from_directory(\n",
    "    \"image_emoji_apple\", label_mode=None, image_size=(64, 64), batch_size=batch_size\n",
    ")\n",
    "dataset = dataset.map(lambda x: x / 255.0)\n",
    "\n",
    "\n",
    "discriminator = keras.Sequential(\n",
    "    [\n",
    "        keras.Input(shape=(64, 64, 3)),\n",
    "        layers.Conv2D(64, kernel_size=4, strides=2, padding=\"same\"),\n",
    "        layers.LeakyReLU(alpha=0.2),\n",
    "        layers.Conv2D(128, kernel_size=4, strides=2, padding=\"same\"),\n",
    "        layers.LeakyReLU(alpha=0.2),\n",
    "        layers.Conv2D(128, kernel_size=4, strides=2, padding=\"same\"),\n",
    "        layers.LeakyReLU(alpha=0.2),\n",
    "        layers.Flatten(),\n",
    "        layers.Dropout(0.2),\n",
    "        layers.Dense(1, activation=\"sigmoid\"),\n",
    "    ],\n",
    "    name=\"discriminator\",\n",
    ")\n",
    "\n",
    "generator = keras.Sequential(\n",
    "    [\n",
    "        keras.Input(shape=(latent_dim,)),\n",
    "        layers.Dense(8 * 8 * 128),\n",
    "        layers.Reshape((8, 8, 128)),\n",
    "        layers.Conv2DTranspose(128, kernel_size=4, strides=2, padding=\"same\"),\n",
    "        layers.LeakyReLU(alpha=0.2),\n",
    "        layers.Conv2DTranspose(256, kernel_size=4, strides=2, padding=\"same\"),\n",
    "        layers.LeakyReLU(alpha=0.2),\n",
    "        layers.Conv2DTranspose(512, kernel_size=4, strides=2, padding=\"same\"),\n",
    "        layers.LeakyReLU(alpha=0.2),\n",
    "        layers.Conv2D(3, kernel_size=5, padding=\"same\", activation=\"sigmoid\"),\n",
    "    ],\n",
    "    name=\"generator\",\n",
    ")\n",
    "\n",
    "d_optimizer = keras.optimizers.Adam(learning_rate=0.0001)\n",
    "g_optimizer = keras.optimizers.Adam(learning_rate=0.0001)\n",
    "\n",
    "\n",
    "class GAN(keras.Model):\n",
    "    def __init__(self, discriminator, generator, latent_dim):\n",
    "        super(GAN, self).__init__()\n",
    "        self.discriminator = discriminator\n",
    "        self.generator = generator\n",
    "        self.latent_dim = latent_dim\n",
    "\n",
    "    def compile(self, d_optimizer, g_optimizer, loss_fn):\n",
    "        super(GAN, self).compile()\n",
    "        self.d_optimizer = d_optimizer\n",
    "        self.g_optimizer = g_optimizer\n",
    "        self.loss_fn = loss_fn\n",
    "        self.d_loss_metric = keras.metrics.Mean(name=\"d_loss\")\n",
    "        self.g_loss_metric = keras.metrics.Mean(name=\"g_loss\")\n",
    "\n",
    "    @property\n",
    "    def metrics(self):\n",
    "        return [self.d_loss_metric, self.g_loss_metric]\n",
    "\n",
    "    def train_step(self, real_images):\n",
    "        batch_size = tf.shape(real_images)[0]\n",
    "        random_latent_vectors = tf.random.normal(shape=(batch_size, self.latent_dim))\n",
    "\n",
    "        generated_images = self.generator(random_latent_vectors)\n",
    "\n",
    "        combined_images = tf.concat([generated_images, real_images], axis=0)\n",
    "\n",
    "        labels = tf.concat(\n",
    "            [tf.ones((batch_size, 1)), tf.zeros((batch_size, 1))], axis=0\n",
    "        )\n",
    "        # Add random noise to the labels\n",
    "        labels += 0.05 * tf.random.uniform(tf.shape(labels))\n",
    "\n",
    "        # Train the discriminator\n",
    "        with tf.GradientTape() as tape:\n",
    "            predictions = self.discriminator(combined_images)\n",
    "            d_loss = self.loss_fn(labels, predictions)\n",
    "        grads = tape.gradient(d_loss, self.discriminator.trainable_weights)\n",
    "        self.d_optimizer.apply_gradients(\n",
    "            zip(grads, self.discriminator.trainable_weights)\n",
    "        )\n",
    "        \n",
    "        random_latent_vectors = tf.random.normal(shape=(batch_size, self.latent_dim))\n",
    "        misleading_labels = tf.zeros((batch_size, 1))\n",
    "\n",
    "        # Train the generator and update metrics\n",
    "        with tf.GradientTape() as tape:\n",
    "            predictions = self.discriminator(self.generator(random_latent_vectors))\n",
    "            g_loss = self.loss_fn(misleading_labels, predictions)\n",
    "        grads = tape.gradient(g_loss, self.generator.trainable_weights)\n",
    "        self.g_optimizer.apply_gradients(zip(grads, self.generator.trainable_weights))\n",
    "        self.d_loss_metric.update_state(d_loss)\n",
    "        self.g_loss_metric.update_state(g_loss)\n",
    "        return {\n",
    "            \"d_loss\": self.d_loss_metric.result(),\n",
    "            \"g_loss\": self.g_loss_metric.result(),\n",
    "        }\n",
    "\n",
    "    \n",
    "class GANMonitor(keras.callbacks.Callback):\n",
    "    def __init__(self, num_img=1, latent_dim=64):\n",
    "        self.num_img = num_img\n",
    "        self.latent_dim = latent_dim\n",
    "\n",
    "    def on_epoch_end(self, epoch, logs=None):\n",
    "        random_latent_vectors = tf.random.normal(shape=(self.num_img, self.latent_dim))\n",
    "        generated_images = self.model.generator(random_latent_vectors)\n",
    "        generated_images *= 255\n",
    "        generated_images.numpy()\n",
    "        for i in range(self.num_img):\n",
    "            img = keras.preprocessing.image.array_to_img(generated_images[i])\n",
    "            img.save(\"generated_emoji_%03d_%d.png\" % (epoch, i))\n",
    "            image_current=Image.open(\"generated_emoji_%03d_%d.png\" % (epoch, i))\n",
    "            \n",
    "\n",
    "    \n",
    "gan = GAN(\n",
    "    discriminator=discriminator, generator=generator, latent_dim=latent_dim\n",
    ")\n",
    "gan.compile(\n",
    "    d_optimizer=d_optimizer,\n",
    "    g_optimizer=g_optimizer,\n",
    "    loss_fn=keras.losses.BinaryCrossentropy(from_logits=True),\n",
    ")\n",
    "\n",
    "gan.fit(\n",
    "    dataset, epochs=10, callbacks=[GANMonitor(num_img=2, latent_dim=latent_dim)]\n",
    ")\n",
    "\n"
   ]
  },
  {
   "cell_type": "code",
   "execution_count": 19,
   "id": "ac2d9bbf",
   "metadata": {},
   "outputs": [
    {
     "name": "stdout",
     "output_type": "stream",
     "text": [
      "Generated images, 1, 5, 10 epoch\n"
     ]
    },
    {
     "data": {
      "image/png": "[encoded data removed]",
      "text/plain": [
       "<IPython.core.display.Image object>"
      ]
     },
     "metadata": {},
     "output_type": "display_data"
    },
    {
     "data": {
      "image/png": "[encoded data removed]",
      "text/plain": [
       "<IPython.core.display.Image object>"
      ]
     },
     "metadata": {},
     "output_type": "display_data"
    },
    {
     "data": {
      "image/png": "[encoded data removed]",
      "text/plain": [
       "<IPython.core.display.Image object>"
      ]
     },
     "metadata": {},
     "output_type": "display_data"
    }
   ],
   "source": [
    "from IPython.display import Image\n",
    "from IPython.display import display\n",
    " \n",
    "image_current_first_epoch=Image(filename=\"generated_emoji_000_0.png\")\n",
    "image_current_fifth_epoch=Image(filename=\"generated_emoji_004_0.png\")\n",
    "image_current_last_epoch=Image(filename=\"generated_emoji_009_0.png\")\n",
    "\n",
    "print(\"Generated images, 1, 5, 10 epoch\")\n",
    "\n",
    "#The results are not good enough, but to make it more clear it needs more time to train (more epochs)\n",
    "display(image_current_first_epoch, image_current_fifth_epoch, image_current_last_epoch)"
   ]
  },
  {
   "cell_type": "code",
   "execution_count": null,
   "id": "86da4749",
   "metadata": {},
   "outputs": [],
   "source": []
  }
 ],
 "metadata": {
  "kernelspec": {
   "display_name": "Python 3 (ipykernel)",
   "language": "python",
   "name": "python3"
  },
  "language_info": {
   "codemirror_mode": {
    "name": "ipython",
    "version": 3
   },
   "file_extension": ".py",
   "mimetype": "text/x-python",
   "name": "python",
   "nbconvert_exporter": "python",
   "pygments_lexer": "ipython3",
   "version": "3.8.10"
  }
 },
 "nbformat": 4,
 "nbformat_minor": 5
}
