{
 "cells": [
  {
   "cell_type": "code",
   "execution_count": 4,
   "id": "0dc1e328",
   "metadata": {
    "scrolled": false
   },
   "outputs": [
    {
     "name": "stderr",
     "output_type": "stream",
     "text": [
      "WARNING:absl:Warning: Setting shuffle_files=True because split=TRAIN and shuffle_files=None. This behavior will be deprecated on 2019-08-06, at which point shuffle_files=False will be the default for all splits.\n"
     ]
    },
    {
     "name": "stdout",
     "output_type": "stream",
     "text": [
      "texts:  [b'This movie started out good, i felt like i was watching an adult version of Seinfeld. Much to quickly i started questioning the situations and actions of the main characters, and found no answers to why they were doing what they were doing. All the acting was superb but only a few scenes had brief moments where they were actually funny. Dan Cortese was amazing. I loved him in this role. His agent should show this movie to casting agents. Watch the first few scenes and then find something better, or else you will find yourself totally lost in this mess. I found this in a bin at a video store. It cost me two dollars and due to the rareness of this movie i feel like it was a good price.'\n",
      " b\"In Carmen, Saura once again seeks to establish a dynamic rapport between reality and fiction, between the actual passions of the personalities in a dance company preparing the choreography for the dance portions of the opera Carmen and the scripted passions from the story of the fictional Carmen, the famous fatal mix of a free spirit (read disregard for fidelity) and her ability to drive men mad with desire. Saura used this same vehicle fiction/reality in an earlier black-and-white film, Bodes de Sangre (Blood Wedding). But, whereas the tensions between the dancers rehearsing Blood Wedding showed to advantage how they evolved into the fictional characters of the story to be performed through directing their emotions into their roles, in Carmen, the parallel between the petty, libidinal urges of the dancers of the troop during rehearsals and the spirit forging to do with the mythic Carmen never comes even close to being believable. It remains a gadget, and, for that reason, a bothersome distraction. One really needs to see Blood Wedding next to Carmen to appreciate the comparison. However, it hardly matters, the melodrama Saura tries to impose upon his Carmen, because the Flamenco dancing and guitar music of the rehearsals_ which are 95% of the film _by some of the best known Flamenco dancers and musicians, more than repays the price of entry. A flawed film, and a wonder: perfect for doing a drill in Keats's 'negative capacity', perhaps?\"\n",
      " b'Sherman, set the wayback machine for... 1986. The United States was just climbing out of its worst postwar recession, while Japan was enjoying an unprecedented industrial boom. Manufacturing industries were still a significant part of the US economy, and factory workers were a good example of the \"average American\". The word \"downsizing\" hadn\\'t entered the general vocabulary yet, but everyone knew the phenomenon. Bruce could be heard on the radio singing, \"Foreman says these jobs are going, boy, and they ain\\'t coming back to your hometown.\" Chrysler had just been bailed out by Uncle Sam. Bumper stickers could be seen saying \"Buy American -- the job you save may be your own.\"<br /><br />\"Gung Ho\" does a better job of capturing the mood of the American industrial workforce than just about any other popular movie made during that period. Certainly the movie has its flaws -- some loose plot threads and mediocre acting jobs by everyone except Michael Keaton and Gedde Watanabe. But the story really is about the meeting of East and West: Keaton\\'s Hunt Stevenson personifies America, brash and confident on the outside yet insecure underneath. Watanabe\\'s Kazuhiro personifies Japan, on top of the heap with a successful system, but wondering if there is more to be learned from their Western rivals. The movie\\'s plot, flawed as it is, simply provides a framework for the conflict, and eventually synthesis, of their two personalities.<br /><br />Keaton\\'s acting overshadows everyone else\\'s, and practically makes the movie by itself. I\\'ve always admired Keaton for his ability to deliver lines that feel improvised, no matter what script he\\'s following. His character, Hunt Stevenson, is a likable, affable everyman, a natural leader with a wise-ass streak. But he has a fatal flaw common to many of us: he doesn\\'t want to disappoint anyone. He\\'ll distract the crowd with inspirational anecdotes, and even lie, rather than point out the ugly truth.<br /><br />Kazuhiro is the mirror image of Stevenson: shy and introspective, but also, because of his Japanese upbringing, reluctant to be the bearer of bad news. The scene in which Stevenson first comes to Kazuhiro with the employees\\' grievances captures perfectly the Japanese approach to workplace conflict. Kazuhiro replies to Stevenson\\'s complaints with \"I understand what you are saying,\" but won\\'t refuse his requests out loud. Stevenson misinterprets this as agreement, and goes away saying, \"Okay, we\\'ve got that settled.\" (This is still a problem in Japanese-American business relations in the 21st century!)<br /><br />Ultimately, Kazuhiro and Stevenson have the same problem: get the factory working smoothly, meet production goals, and fulfill their responsibility to the workers under them. In working towards this goal, they each have to take a page from the others\\' book. Kazuhiro\\'s family becoming more \"Americanized\" is an obvious example. Also note that Stevenson thinks it\\'s odd when Kazuhiro explains how he had to make a public apology to his workers for failing them -- and yet, later in the movie, Stevenson does exactly that himself.<br /><br />The plot and its resolution are a little cornball, but hey, this is a comedy. If you can overlook the movie\\'s flaws, there is a great story about self-realization and open-mindedness here.']\n",
      "\n",
      "labels:  [0 1 1]\n",
      "[False, True, True, True, True]\n",
      "[-0.00941545]\n",
      "[-0.00941545]\n",
      "391/391 [==============================] - 701s 2s/step - loss: 0.6534 - accuracy: 0.5561 - val_loss: 0.5081 - val_accuracy: 0.7198\n",
      "391/391 [==============================] - 127s 325ms/step - loss: 0.5054 - accuracy: 0.7207\n",
      "Test Loss: 0.5053713917732239\n",
      "Test Accuracy: 0.7206799983978271\n"
     ]
    },
    {
     "data": {
      "image/png": "[encoded data removed]",
      "text/plain": [
       "<Figure size 1152x576 with 2 Axes>"
      ]
     },
     "metadata": {
      "needs_background": "light"
     },
     "output_type": "display_data"
    },
    {
     "name": "stdout",
     "output_type": "stream",
     "text": [
      "[[-0.28510693]]\n"
     ]
    }
   ],
   "source": [
    "import numpy as np\n",
    "\n",
    "import tensorflow_datasets as tfds\n",
    "import tensorflow as tf\n",
    "\n",
    "tfds.disable_progress_bar()\n",
    "\n",
    "import matplotlib.pyplot as plt\n",
    "\n",
    "\n",
    "def plot_graphs(history, metric):\n",
    "  plt.plot(history.history[metric])\n",
    "  plt.plot(history.history['val_'+metric], '')\n",
    "  plt.xlabel(\"Epochs\")\n",
    "  plt.ylabel(metric)\n",
    "  plt.legend([metric, 'val_'+metric])\n",
    "\n",
    "dataset, info = tfds.load('imdb_reviews', with_info=True,\n",
    "                          as_supervised=True)\n",
    "train_dataset, test_dataset = dataset['train'], dataset['test']\n",
    "\n",
    "train_dataset.element_spec\n",
    "\n",
    "BUFFER_SIZE = 10000\n",
    "BATCH_SIZE = 64\n",
    "\n",
    "train_dataset = train_dataset.shuffle(BUFFER_SIZE).batch(BATCH_SIZE).prefetch(tf.data.experimental.AUTOTUNE)\n",
    "test_dataset = test_dataset.batch(BATCH_SIZE).prefetch(tf.data.experimental.AUTOTUNE)\n",
    "\n",
    "for example, label in train_dataset.take(1):\n",
    "  print('texts: ', example.numpy()[:3])\n",
    "  print()\n",
    "  print('labels: ', label.numpy()[:3])\n",
    "\n",
    "VOCAB_SIZE = 1000\n",
    "encoder = tf.keras.layers.experimental.preprocessing.TextVectorization(\n",
    "  max_tokens=VOCAB_SIZE)\n",
    "encoder.adapt(train_dataset.map(lambda text, label: text))\n",
    "\n",
    "vocab = np.array(encoder.get_vocabulary())\n",
    "\n",
    "model = tf.keras.Sequential([\n",
    "    encoder,\n",
    "    tf.keras.layers.Embedding(\n",
    "        input_dim=len(encoder.get_vocabulary()),\n",
    "        output_dim=64,\n",
    "        # Use masking to handle the variable sequence lengths\n",
    "        mask_zero=True),\n",
    "    tf.keras.layers.Bidirectional(tf.keras.layers.LSTM(64)),\n",
    "    tf.keras.layers.Dense(64, activation='relu'),\n",
    "    tf.keras.layers.Dense(1)\n",
    "])\n",
    "\n",
    "print([layer.supports_masking for layer in model.layers])\n",
    "\n",
    "# predict on a sample text without padding.\n",
    "\n",
    "sample_text = ('The movie was cool. The animation and the graphics '\n",
    "               'were out of this world. I would recommend this movie.')\n",
    "predictions = model.predict(np.array([sample_text]))\n",
    "print(predictions[0])\n",
    "\n",
    "# predict on a sample text with padding\n",
    "\n",
    "padding = \"the \" * 2000\n",
    "predictions = model.predict(np.array([sample_text, padding]))\n",
    "print(predictions[0])\n",
    "\n",
    "\n",
    "model.compile(loss=tf.keras.losses.BinaryCrossentropy(from_logits=True),\n",
    "              optimizer=tf.keras.optimizers.Adam(1e-4),\n",
    "              metrics=['accuracy'])\n",
    "\n",
    "\n",
    "history = model.fit(train_dataset, epochs=1,\n",
    "                    validation_data=test_dataset,\n",
    "                    validation_steps=30)\n",
    "\n",
    "test_loss, test_acc = model.evaluate(test_dataset)\n",
    "\n",
    "print('Test Loss:', test_loss)\n",
    "print('Test Accuracy:', test_acc)\n",
    "\n",
    "plt.figure(figsize=(16, 8))\n",
    "plt.subplot(1, 2, 1)\n",
    "plot_graphs(history, 'accuracy')\n",
    "plt.ylim(None, 1)\n",
    "plt.subplot(1, 2, 2)\n",
    "plot_graphs(history, 'loss')\n",
    "plt.ylim(0, None)\n",
    "\n",
    "plt.show()\n",
    "\n",
    "sample_text = ('The movie was cool. The animation and the graphics '\n",
    "               'were out of this world. I would recommend this movie.')\n",
    "predictions = model.predict(np.array([sample_text]))\n",
    "\n",
    "print(predictions)"
   ]
  },
  {
   "cell_type": "code",
   "execution_count": null,
   "id": "779962f3",
   "metadata": {},
   "outputs": [],
   "source": []
  }
 ],
 "metadata": {
  "kernelspec": {
   "display_name": "Python 3 (ipykernel)",
   "language": "python",
   "name": "python3"
  },
  "language_info": {
   "codemirror_mode": {
    "name": "ipython",
    "version": 3
   },
   "file_extension": ".py",
   "mimetype": "text/x-python",
   "name": "python",
   "nbconvert_exporter": "python",
   "pygments_lexer": "ipython3",
   "version": "3.8.12"
  }
 },
 "nbformat": 4,
 "nbformat_minor": 5
}
